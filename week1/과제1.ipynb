{
 "cells": [
  {
   "cell_type": "code",
   "outputs": [
    {
     "name": "stdout",
     "output_type": "stream",
     "text": [
      "tensor([[0.4035, 0.9317, 0.9386, 0.7088, 0.9203, 0.1808, 0.2871, 0.1062, 0.5220,\n",
      "         0.0881],\n",
      "        [0.8626, 0.4747, 0.4153, 0.3861, 0.6923, 0.3733, 0.6315, 0.8155, 0.7099,\n",
      "         0.7968],\n",
      "        [0.5849, 0.4506, 0.9610, 0.9857, 0.2244, 0.4217, 0.4199, 0.3248, 0.3270,\n",
      "         0.2210],\n",
      "        [0.2370, 0.5885, 0.1001, 0.1333, 0.8401, 0.4060, 0.6610, 0.2370, 0.9003,\n",
      "         0.2938],\n",
      "        [0.4695, 0.4550, 0.5709, 0.1414, 0.2989, 0.3384, 0.7261, 0.6519, 0.1912,\n",
      "         0.0409]], device='cuda:0')\n"
     ]
    }
   ],
   "source": [
    "# gpu 0번 연결해두기!\n",
    "import os\n",
    "\n",
    "import torchsummary\n",
    "\n",
    "os.environ['CUDA_DEVICE_ORDER'] = 'PCI_BUS_ID'\n",
    "os.environ['CUDA_VISIBLE_DEVICES'] = '7,' # gpu 번호를 선택\n",
    "\n",
    "import torch\n",
    "\n",
    "x = torch.rand([5,10], device='cuda:0')\n",
    "print(x)\n",
    "device='cuda:0'"
   ],
   "metadata": {
    "collapsed": false,
    "ExecuteTime": {
     "end_time": "2024-02-22T12:56:49.109793300Z",
     "start_time": "2024-02-22T12:56:44.807934200Z"
    }
   },
   "id": "41126d165901604b",
   "execution_count": 1
  },
  {
   "cell_type": "markdown",
   "source": [
    "## 패키지 불러오기"
   ],
   "metadata": {
    "collapsed": false
   },
   "id": "c4a6b6ae331cad3"
  },
  {
   "cell_type": "code",
   "outputs": [],
   "source": [
    "import os\n",
    "import sys\n",
    "import pickle\n",
    "\n",
    "import matplotlib.pyplot as plt\n",
    "import numpy\n",
    "import torch\n",
    "from torch.utils.data import Dataset\n",
    "\n",
    "import torch\n",
    "import torch.nn as nn\n",
    "import torch.optim as optim\n",
    "import torch.nn.init as init\n",
    "import torch.nn.functional as F\n",
    "import torchvision\n",
    "import torchvision.transforms as T\n",
    "from torch.utils.data import DataLoader\n",
    "\n",
    "import numpy as np\n",
    "import matplotlib.pyplot as plt\n",
    "\n",
    "\n",
    "from tqdm import tqdm\n",
    "from tqdm.auto import trange\n",
    "from PIL import Image\n",
    "\n",
    "import matplotlib.pyplot as plt\n",
    "import time\n",
    "import copy\n",
    "import cv2\n",
    "import random\n",
    "\n",
    "import pandas as pd\n",
    "import glob\n",
    "from sklearn.model_selection import StratifiedKFold\n",
    "from torch.optim.lr_scheduler import ReduceLROnPlateau\n",
    "from torch.optim.lr_scheduler import StepLR\n",
    "from sklearn.metrics import roc_auc_score\n",
    "import torchsummary\n",
    "\n",
    "import warnings\n",
    "warnings.filterwarnings('ignore')\n",
    "\n"
   ],
   "metadata": {
    "collapsed": false,
    "ExecuteTime": {
     "end_time": "2024-02-22T12:56:51.727197900Z",
     "start_time": "2024-02-22T12:56:50.637939900Z"
    }
   },
   "id": "a815e3efafa1b1b3",
   "execution_count": 2
  },
  {
   "cell_type": "code",
   "outputs": [
    {
     "ename": "SyntaxError",
     "evalue": "invalid syntax (2496277846.py, line 1)",
     "output_type": "error",
     "traceback": [
      "\u001B[0;36m  File \u001B[0;32m\"/tmp/ipykernel_4281/2496277846.py\"\u001B[0;36m, line \u001B[0;32m1\u001B[0m\n\u001B[0;31m    print(1.float())\u001B[0m\n\u001B[0m            ^\u001B[0m\n\u001B[0;31mSyntaxError\u001B[0m\u001B[0;31m:\u001B[0m invalid syntax\n"
     ]
    }
   ],
   "source": [
    "print(1.float())"
   ],
   "metadata": {
    "collapsed": false,
    "ExecuteTime": {
     "end_time": "2024-02-22T12:57:12.042250200Z",
     "start_time": "2024-02-22T12:57:11.996774500Z"
    }
   },
   "id": "fb2a54a3569faa1b",
   "execution_count": 5
  },
  {
   "cell_type": "code",
   "outputs": [
    {
     "ename": "NameError",
     "evalue": "name 'float' is not defined",
     "output_type": "error",
     "traceback": [
      "\u001B[0;31m---------------------------------------------------------------------------\u001B[0m",
      "\u001B[0;31mNameError\u001B[0m                                 Traceback (most recent call last)",
      "\u001B[0;32m/tmp/ipykernel_4281/3005273141.py\u001B[0m in \u001B[0;36m<module>\u001B[0;34m\u001B[0m\n\u001B[0;32m----> 1\u001B[0;31m \u001B[0;32mdel\u001B[0m \u001B[0mfloat\u001B[0m\u001B[0;34m\u001B[0m\u001B[0;34m\u001B[0m\u001B[0m\n\u001B[0m",
      "\u001B[0;31mNameError\u001B[0m: name 'float' is not defined"
     ]
    }
   ],
   "source": [
    "del float"
   ],
   "metadata": {
    "collapsed": false,
    "ExecuteTime": {
     "end_time": "2024-02-22T13:02:48.342812400Z",
     "start_time": "2024-02-22T13:02:48.329863400Z"
    }
   },
   "id": "fc9e57d0d79589b7",
   "execution_count": 10
  },
  {
   "cell_type": "code",
   "outputs": [
    {
     "name": "stdout",
     "output_type": "stream",
     "text": [
      "True\n"
     ]
    }
   ],
   "source": [
    "import numpy as np\n",
    "print(np.random.random()<1)"
   ],
   "metadata": {
    "collapsed": false,
    "ExecuteTime": {
     "end_time": "2024-02-22T13:53:06.891042300Z",
     "start_time": "2024-02-22T13:53:06.873012Z"
    }
   },
   "id": "6f7e9ea51dbd2b78",
   "execution_count": 4
  },
  {
   "cell_type": "markdown",
   "source": [
    "## 데이터 불러오기 및 전처리"
   ],
   "metadata": {
    "collapsed": false
   },
   "id": "f15e2fcc27665a45"
  },
  {
   "cell_type": "markdown",
   "source": [
    "### CustomDataset class 만들기"
   ],
   "metadata": {
    "collapsed": false
   },
   "id": "e81c540352f16170"
  },
  {
   "cell_type": "code",
   "outputs": [],
   "source": [
    "class Train_dataset(Dataset):\n",
    "    def __init__(self, path, transform=None):\n",
    "        with open(os.path.join(path,'train'),'rb') as f:\n",
    "            data=pickle.load(f,encoding='bytes')\n",
    "        self.transform = transform\n",
    "        self.img=data[b'data']\n",
    "        self.label=data[b'fine_labels']\n",
    "        \n",
    "        \n",
    "    def __len__(self):\n",
    "        return len(self.img)\n",
    "\n",
    "    def __getitem__(self, index):\n",
    "        label = self.label[index]\n",
    "        #~1024 : R채널, 1024~2048 : G채널, 2048~3072 : B채널\n",
    "        r = self.img[index, :1024].reshape(32, 32)\n",
    "        g = self.img[index, 1024:2048].reshape(32, 32)\n",
    "        b = self.img[index, 2048:].reshape(32, 32)\n",
    "        # dstack 함수는 열 방향으로 값을 붙여주는\n",
    "        ''' a = np.array([1, 2, 3])\n",
    "            b = np.array([4, 5, 6])\n",
    "\n",
    "            np.dstack((a, b)) # shape=(1, 3, 2)\n",
    "            # array([[[1, 4],\n",
    "            #         [2, 5],\n",
    "            #         [3, 6]]])'''\n",
    "        img = numpy.dstack((r, g, b))\n",
    "\n",
    "        if self.transform:\n",
    "            img = self.transform(img)\n",
    "            \n",
    "        return img,label\n",
    "    \n",
    "    \n",
    "class Test_dataset(Dataset):\n",
    "    \n",
    "    def __init__(self,path,transform=None):\n",
    "        \n",
    "        with open(os.path.join(path,'test'),'rb') as f:\n",
    "            data=pickle.load(f,encoding='bytes')\n",
    "        self.img=data[b'data']\n",
    "        self.label=data[b'fine_labels']\n",
    "        self.transform = transform\n",
    "        \n",
    "        \n",
    "    def __len__(self):\n",
    "        return len(self.img)\n",
    "    \n",
    "    \n",
    "    def __getitem__(self, index):\n",
    "        label=self.label[index]\n",
    "        r = self.img[index, :1024].reshape(32, 32)\n",
    "        g = self.img[index, 1024:2048].reshape(32, 32)\n",
    "        b = self.img[index, 2048:].reshape(32, 32)\n",
    "        img=numpy.dstack((r, g, b))\n",
    "        \n",
    "        if self.transform:\n",
    "            img = self.transform(img)\n",
    "            \n",
    "        return img, label"
   ],
   "metadata": {
    "collapsed": false,
    "ExecuteTime": {
     "start_time": "2024-02-22T13:31:54.619438700Z"
    }
   },
   "id": "eacf68f9bfcf5c4a",
   "execution_count": null
  },
  {
   "cell_type": "markdown",
   "source": [
    "### 데이터 정규화"
   ],
   "metadata": {
    "collapsed": false
   },
   "id": "32a1b383e663d6cf"
  },
  {
   "cell_type": "code",
   "outputs": [],
   "source": [
    "train_ds=Train_dataset(path='/home/sinssinej7/shared/hdd_ext/nvme1/public/vision/classification/cifar-100-python',transform=T.ToTensor())\n",
    "val_ds=Test_dataset(path='/home/sinssinej7/shared/hdd_ext/nvme1/public/vision/classification/cifar-100-python',transform=T.ToTensor())"
   ],
   "metadata": {
    "collapsed": false,
    "ExecuteTime": {
     "end_time": "2024-02-22T13:31:54.640360100Z",
     "start_time": "2024-02-22T13:31:54.622419800Z"
    }
   },
   "id": "dd83d2c3c666a0f3",
   "execution_count": null
  },
  {
   "cell_type": "code",
   "outputs": [],
   "source": [
    "train_ds.img.shape"
   ],
   "metadata": {
    "collapsed": false,
    "ExecuteTime": {
     "start_time": "2024-02-22T13:31:54.625413700Z"
    }
   },
   "id": "8921defc1a4d4600",
   "execution_count": null
  },
  {
   "cell_type": "code",
   "outputs": [],
   "source": [
    "img,_=train_ds[1]\n",
    "print(img.shape) # 이미지 형태\n",
    "print(_) # 해당 이미지의 클래스(라벨)\n",
    "print(train_ds)\n",
    "print(val_ds)"
   ],
   "metadata": {
    "collapsed": false,
    "ExecuteTime": {
     "start_time": "2024-02-22T13:31:54.652321100Z"
    }
   },
   "id": "aeaa847387ebecdc",
   "execution_count": null
  },
  {
   "cell_type": "code",
   "outputs": [],
   "source": [
    "train_meanRGB=[np.mean(x.numpy(), axis=(1,2)) for x, _ in train_ds] #이미지의 높이와 너비를 기준으로 평균을 구한다 -> RGB채널별로 이미지의 각 픽셀에 대한 평균이 계산된다.\n",
    "train_stdRGB=[np.std(x.numpy(), axis=(1,2)) for x, _ in train_ds]\n",
    "\n",
    "train_meanR=np.mean([m[0] for m in train_meanRGB])\n",
    "train_meanG=np.mean([m[1] for m in train_meanRGB])\n",
    "train_meanB=np.mean([m[2] for m in train_meanRGB])\n",
    "\n",
    "train_stdR=np.std([m[0] for m in train_stdRGB])\n",
    "train_stdG=np.std([m[1] for m in train_stdRGB])\n",
    "train_stdB=np.std([m[2] for m in train_stdRGB])\n",
    "\n",
    "val_meanRGB=[np.mean(x.numpy(), axis=(1,2)) for x, _ in val_ds] #이미지의 높이와 너비를 기준으로 평균을 구한다 -> RGB채널별로 이미지의 각 픽셀에 대한 평균이 계산된다.\n",
    "val_stdRGB=[np.std(x.numpy(), axis=(1,2)) for x, _ in val_ds]\n",
    "\n",
    "val_meanR=np.mean([m[0] for m in val_meanRGB])\n",
    "val_meanG=np.mean([m[1] for m in val_meanRGB])\n",
    "val_meanB=np.mean([m[2] for m in val_meanRGB])\n",
    "\n",
    "val_stdR=np.std([m[0] for m in val_stdRGB])\n",
    "val_stdG=np.std([m[1] for m in val_stdRGB])\n",
    "val_stdB=np.std([m[2] for m in val_stdRGB])\n",
    "\n",
    "print(train_meanR,train_meanG,train_meanB)\n",
    "print(val_meanR,val_meanG,val_meanB)"
   ],
   "metadata": {
    "collapsed": false,
    "ExecuteTime": {
     "start_time": "2024-02-22T13:31:54.652321100Z"
    }
   },
   "id": "f3ee5d468f0b11f6",
   "execution_count": null
  },
  {
   "cell_type": "markdown",
   "source": [
    "### 데이터 전처리"
   ],
   "metadata": {
    "collapsed": false
   },
   "id": "6998952cd0ffcb3c"
  },
  {
   "cell_type": "code",
   "outputs": [],
   "source": [
    "def resize_img(img, img_size=480):\n",
    "    img_np = np.array(img)\n",
    "\n",
    "    if img_np.shape[1] > img_np.shape[0]:\n",
    "        ratio = img_size / img_np.shape[1]\n",
    "    else:\n",
    "        ratio = img_size / img_np.shape[0]\n",
    "\n",
    "    img_np = cv2.resize(img_np, dsize=(0, 0), fx=ratio, fy=ratio, interpolation=cv2.INTER_LINEAR)\n",
    "\n",
    "    w, h = img_np.shape[1], img_np.shape[0]\n",
    "    dw = (img_size - w) / 2\n",
    "    dh = (img_size - h) / 2\n",
    "\n",
    "    M = np.float32([[1, 0, dw], [0, 1, dh]])\n",
    "    img_re = cv2.warpAffine(img_np, M, (img_size, img_size))\n",
    "\n",
    "    return Image.fromarray(img_re)\n"
   ],
   "metadata": {
    "collapsed": false,
    "ExecuteTime": {
     "start_time": "2024-02-22T13:31:54.652321100Z"
    }
   },
   "id": "5756e93634a8aa23",
   "execution_count": null
  },
  {
   "cell_type": "code",
   "outputs": [],
   "source": [
    "transform_train= T.Compose([#T.Lambda(lambda img: resize_img(img,48)),  # 이미지 리사이즈\n",
    "                            T.ToPILImage(),\n",
    "                            T.RandomCrop(32,padding=4),\n",
    "                            #T.RandomResizedCrop(32,scale=(0.5,1.0)),                         \n",
    "                            T.AutoAugment(policy=T.autoaugment.AutoAugmentPolicy.CIFAR10, interpolation=T.InterpolationMode.BICUBIC),\n",
    "                            T.RandomHorizontalFlip(p=0.8),  # p확률로 좌우반전\n",
    "                            #T.ColorJitter(brightness=0.2, contrast=0.2,hue=0.2,saturation=0.2),  # 이미지 지터링\n",
    "                            #T.RandomVerticalFlip(p=0.5),  # p확률로 상하반전\n",
    "                            T.ToTensor(),\n",
    "                            T.Normalize(mean=[train_meanR, train_meanG, train_meanB], std=[train_stdR,train_stdG ,train_stdB])])\n",
    "                            \n",
    "\n",
    "\n",
    "transform_val = T.Compose([#T.Lambda(lambda img: resize_img(img,48)),  # 이미지 resize\n",
    "                            T.ToPILImage(),\n",
    "                            T.CenterCrop((32,32)),\n",
    "                            T.ToTensor(),\n",
    "                            T.Normalize(mean=[val_meanR, val_meanG, val_meanB], std=[val_stdR, val_stdG, val_stdB])])\n",
    "\n",
    "\n",
    "train_ds.transform=transform_train\n",
    "train_loader=DataLoader(train_ds,batch_size=512,shuffle=True,drop_last=True)\n",
    "val_ds.transform=transform_val\n",
    "val_loader=DataLoader(val_ds,batch_size=512,shuffle=False)\n"
   ],
   "metadata": {
    "collapsed": false,
    "ExecuteTime": {
     "start_time": "2024-02-22T13:31:54.653327200Z"
    }
   },
   "id": "edbf5678e69ef124",
   "execution_count": null
  },
  {
   "cell_type": "code",
   "outputs": [
    {
     "name": "stdout",
     "output_type": "stream",
     "text": [
      "50000\n"
     ]
    }
   ],
   "source": [
    "print(len(train_ds))"
   ],
   "metadata": {
    "collapsed": false,
    "ExecuteTime": {
     "end_time": "2024-02-21T14:54:16.255227900Z",
     "start_time": "2024-02-21T14:54:16.251678800Z"
    }
   },
   "id": "aeabe1a2da363917",
   "execution_count": 10
  },
  {
   "cell_type": "code",
   "outputs": [
    {
     "data": {
      "text/plain": "97"
     },
     "execution_count": 11,
     "metadata": {},
     "output_type": "execute_result"
    }
   ],
   "source": [
    "len(train_loader)"
   ],
   "metadata": {
    "collapsed": false,
    "ExecuteTime": {
     "end_time": "2024-02-21T14:54:16.322691200Z",
     "start_time": "2024-02-21T14:54:16.252182200Z"
    }
   },
   "id": "c4dce583ca89ddf0",
   "execution_count": 11
  },
  {
   "cell_type": "code",
   "outputs": [
    {
     "name": "stderr",
     "output_type": "stream",
     "text": [
      "Clipping input data to the valid range for imshow with RGB data ([0..1] for floats or [0..255] for integers).\n"
     ]
    },
    {
     "name": "stdout",
     "output_type": "stream",
     "text": [
      "torch.Size([512, 3, 32, 32])\n"
     ]
    },
    {
     "data": {
      "text/plain": "<Figure size 432x288 with 1 Axes>",
      "image/png": "[encoded data removed]"
     },
     "metadata": {
      "needs_background": "light"
     },
     "output_type": "display_data"
    }
   ],
   "source": [
    "for idx, (img,label) in enumerate(train_loader):\n",
    "  print(img.shape)\n",
    "  plt.imshow(img[20].permute(1,2,0))\n",
    "  break"
   ],
   "metadata": {
    "collapsed": false,
    "ExecuteTime": {
     "end_time": "2024-02-21T14:54:16.779885500Z",
     "start_time": "2024-02-21T14:54:16.292355900Z"
    }
   },
   "id": "a789933f4d26b0e7",
   "execution_count": 12
  },
  {
   "cell_type": "code",
   "outputs": [
    {
     "name": "stderr",
     "output_type": "stream",
     "text": [
      "Clipping input data to the valid range for imshow with RGB data ([0..1] for floats or [0..255] for integers).\n"
     ]
    },
    {
     "name": "stdout",
     "output_type": "stream",
     "text": [
      "torch.Size([512, 3, 32, 32])\n"
     ]
    },
    {
     "data": {
      "text/plain": "<Figure size 432x288 with 1 Axes>",
      "image/png": "[encoded data removed]"
     },
     "metadata": {
      "needs_background": "light"
     },
     "output_type": "display_data"
    }
   ],
   "source": [
    "for idx, (img,label) in enumerate(val_loader):\n",
    "  print(img.shape)\n",
    "  plt.imshow(img[8].permute(1,2,0))\n",
    "  break"
   ],
   "metadata": {
    "collapsed": false,
    "ExecuteTime": {
     "end_time": "2024-02-21T14:54:17.074113800Z",
     "start_time": "2024-02-21T14:54:16.779885500Z"
    }
   },
   "id": "64045978f5a703a8",
   "execution_count": 13
  },
  {
   "cell_type": "code",
   "outputs": [
    {
     "name": "stderr",
     "output_type": "stream",
     "text": [
      "Clipping input data to the valid range for imshow with RGB data ([0..1] for floats or [0..255] for integers).\n"
     ]
    },
    {
     "data": {
      "text/plain": "<matplotlib.image.AxesImage at 0x7fa871953af0>"
     },
     "execution_count": 14,
     "metadata": {},
     "output_type": "execute_result"
    },
    {
     "data": {
      "text/plain": "<Figure size 432x288 with 1 Axes>",
      "image/png": "[encoded data removed]"
     },
     "metadata": {
      "needs_background": "light"
     },
     "output_type": "display_data"
    }
   ],
   "source": [
    "plt.imshow(img[3].permute(1,2,0).cpu())\n"
   ],
   "metadata": {
    "collapsed": false,
    "ExecuteTime": {
     "end_time": "2024-02-21T14:54:17.239201500Z",
     "start_time": "2024-02-21T14:54:17.086747500Z"
    }
   },
   "id": "ea36c512bea0dcda",
   "execution_count": 14
  },
  {
   "cell_type": "markdown",
   "source": [
    "## 모델 훈련"
   ],
   "metadata": {
    "collapsed": false
   },
   "id": "349267ee73b83962"
  },
  {
   "cell_type": "code",
   "outputs": [],
   "source": [
    "def val(val_loader, model, loss_fn,device):\n",
    "    model.eval()\n",
    "    with torch.no_grad():\n",
    "        r_loss=0\n",
    "        corr=0\n",
    "        \n",
    "        for idx, (img,label) in enumerate(val_loader):\n",
    "            \n",
    "            img,label=img.to(device), label.to(device)\n",
    "            \n",
    "            output=model(img)\n",
    "            \n",
    "            _,pred=output.max(dim=1)\n",
    "            corr+=torch.sum(pred.eq(label)).item()\n",
    "            \n",
    "            r_loss+=loss_fn(output,label).item()*img.size(0)\n",
    "            \n",
    "        acc = corr/len(val_loader.dataset)\n",
    "        \n",
    "        return r_loss/len(val_loader.dataset), acc\n",
    "        \n",
    "        "
   ],
   "metadata": {
    "collapsed": false,
    "ExecuteTime": {
     "end_time": "2024-02-21T14:54:17.242503600Z",
     "start_time": "2024-02-21T14:54:17.238174500Z"
    }
   },
   "id": "2fb545781c268e3",
   "execution_count": 15
  },
  {
   "cell_type": "markdown",
   "source": [
    "### Cutmix"
   ],
   "metadata": {
    "collapsed": false
   },
   "id": "9f7c0a71cb38a072"
  },
  {
   "cell_type": "code",
   "outputs": [],
   "source": [
    "def rand_bbox(size, lam): # size : [B, C, W, H]\n",
    "    W = size[2] # 이미지의 width\n",
    "    H = size[3] # 이미지의 height\n",
    "    cut_rat = np.sqrt(1. - lam)  # 패치 크기의 비율 정하기\n",
    "    cut_w = np.int(W * cut_rat)  # 패치의 너비\n",
    "    cut_h = np.int(H * cut_rat)  # 패치의 높이\n",
    "\n",
    "    # uniform\n",
    "    # 이미지 내에서 랜덤한 중심 좌표 추출\n",
    "    cx = np.random.randint(W)\n",
    "    cy = np.random.randint(H)\n",
    "\n",
    "    # 패치의 좌표값 계산 및 이미지 범위 조\n",
    "    bbx1 = np.clip(cx - cut_w // 2, 0, W)  # cx: 이미지 내엣 랜덤하게 선택된 중심 x좌표, 'cut_x'는 패치의 너비의 절반\n",
    "    #왼쪽 모서리의 x 좌표 (bbx1)를 계산\n",
    "    #cx - cut_w // 2는 중심 좌표에서 패치의 왼쪽 끝으로 이동한 좌표\n",
    "    #cx - cut_w // 2 이 값이 -20이 나오면 값이 0 , 이미지를 벗어나지 않게끔 하기 위해서 계산 값이 - 면 0, 이미지 너비보다 크면 W\n",
    "    bby1 = np.clip(cy - cut_h // 2, 0, H)\n",
    "    bbx2 = np.clip(cx + cut_w // 2, 0, W)\n",
    "    bby2 = np.clip(cy + cut_h // 2, 0, H)\n",
    "\n",
    "    return bbx1, bby1, bbx2, bby2"
   ],
   "metadata": {
    "collapsed": false,
    "ExecuteTime": {
     "end_time": "2024-02-21T14:54:17.317731200Z",
     "start_time": "2024-02-21T14:54:17.239201500Z"
    }
   },
   "id": "769b90ebd1fb7db5",
   "execution_count": 16
  },
  {
   "cell_type": "code",
   "outputs": [],
   "source": [
    "img,label = next(iter(train_loader))\n",
    "img,label=img.to(device),label.to(device)\n",
    "\n",
    "lam = np.random.beta(1.0, 1.0)  # 베타 분포에서 lam 값을 가져옵나다.\n",
    "rand_index = torch.randperm(img.size()[0]).to(device) # batch_size 내의 인덱스가 랜덤하게 셔플됩니다.\n",
    "shuffled_y = label[rand_index] # 타겟 레이블을 랜덤하게 셔플합니다.\n",
    "\n",
    "bbx1, bby1, bbx2, bby2 = rand_bbox(img.size(), lam)\n",
    "img[:,:,bbx1:bbx2, bby1:bby2] = img[rand_index,:,bbx1:bbx2, bby1:bby2]\n",
    "\n",
    "lam = 1-((bbx2-bbx1)*(bby2-bby1)/(img.size()[-1]*img.size()[-2])) # 픽셀 비율과 일치하도록 람다 조정\n"
   ],
   "metadata": {
    "collapsed": false,
    "ExecuteTime": {
     "end_time": "2024-02-21T14:54:17.601433600Z",
     "start_time": "2024-02-21T14:54:17.281591900Z"
    }
   },
   "id": "1a08cb0084443c7",
   "execution_count": 17
  },
  {
   "cell_type": "code",
   "outputs": [
    {
     "data": {
      "text/plain": "0.984375"
     },
     "execution_count": 18,
     "metadata": {},
     "output_type": "execute_result"
    }
   ],
   "source": [
    "lam"
   ],
   "metadata": {
    "collapsed": false,
    "ExecuteTime": {
     "end_time": "2024-02-21T14:54:17.610330Z",
     "start_time": "2024-02-21T14:54:17.602944200Z"
    }
   },
   "id": "ca4301748082162",
   "execution_count": 18
  },
  {
   "cell_type": "code",
   "outputs": [
    {
     "name": "stderr",
     "output_type": "stream",
     "text": [
      "Clipping input data to the valid range for imshow with RGB data ([0..1] for floats or [0..255] for integers).\n"
     ]
    },
    {
     "data": {
      "text/plain": "<Figure size 432x288 with 1 Axes>",
      "image/png": "[encoded data removed]"
     },
     "metadata": {
      "needs_background": "light"
     },
     "output_type": "display_data"
    }
   ],
   "source": [
    "img_normalized = img[21].permute(1, 2, 0).cpu().numpy() / 255.0  # 이미지를 [0, 1] 범위로 정규화\n",
    "\n",
    "plt.imshow(img_normalized)\n",
    "plt.show()"
   ],
   "metadata": {
    "collapsed": false,
    "ExecuteTime": {
     "end_time": "2024-02-21T14:54:17.809084100Z",
     "start_time": "2024-02-21T14:54:17.655614100Z"
    }
   },
   "id": "2a786338b71deff4",
   "execution_count": 19
  },
  {
   "cell_type": "code",
   "outputs": [
    {
     "name": "stderr",
     "output_type": "stream",
     "text": [
      "Clipping input data to the valid range for imshow with RGB data ([0..1] for floats or [0..255] for integers).\n"
     ]
    },
    {
     "data": {
      "text/plain": "<matplotlib.image.AxesImage at 0x7fa871547760>"
     },
     "execution_count": 20,
     "metadata": {},
     "output_type": "execute_result"
    },
    {
     "data": {
      "text/plain": "<Figure size 432x288 with 1 Axes>",
      "image/png": "[encoded data removed]"
     },
     "metadata": {
      "needs_background": "light"
     },
     "output_type": "display_data"
    }
   ],
   "source": [
    "plt.imshow(img[3].permute(1,2,0).cpu())"
   ],
   "metadata": {
    "collapsed": false,
    "ExecuteTime": {
     "end_time": "2024-02-21T14:54:17.919924800Z",
     "start_time": "2024-02-21T14:54:17.801460Z"
    }
   },
   "id": "23c99cb12b9cee79",
   "execution_count": 20
  },
  {
   "cell_type": "code",
   "outputs": [],
   "source": [
    "def train(train_loader, model, loss_fn, optimizer, device):\n",
    "    model.train()  # 모델을 학습 모드로 설정\n",
    "    r_loss = 0\n",
    "    corr = 0\n",
    "    r_size = 0\n",
    "    \n",
    "\n",
    "    progress_bar = tqdm(train_loader)\n",
    "    for idx, (img,label) in enumerate(progress_bar):\n",
    "        img, label = img.to(device), label.to(device)\n",
    "\n",
    "        optimizer.zero_grad()\n",
    "        \n",
    "        \n",
    "        if 1.0 > 0 and np.random.random()>1: # 전부 cutmix 하기\n",
    "            lam= np.random.beta(1.0,1.0)\n",
    "            rand_index = torch.randperm(img.size()[0]).to(device)\n",
    "            target_a = label\n",
    "            target_b = label[rand_index]\n",
    "            bbx1,bby1,bbx2,bby2= rand_bbox(img.size(),lam)\n",
    "\n",
    "            lam = 1 - ((bbx2 - bbx1) * (bby2 - bby1) / (img.size()[-1] * img.size()[-2]))\n",
    "\n",
    "            output=model(img)\n",
    "            loss= loss_fn(output,target_a)* lam + loss_fn(output,target_b)*(1-lam)\n",
    "\n",
    "        else:\n",
    "            output = model(img)\n",
    "            loss = loss_fn(output,label)\n",
    "            \n",
    "\n",
    "        loss.backward()\n",
    "        optimizer.step()\n",
    "\n",
    "        _, pred = output.max(dim=1) \n",
    "        corr += pred.eq(label).sum().item() \n",
    "        r_loss += loss.item() \n",
    "        r_size += img.size(0) \n",
    "\n",
    "        accuracy = corr*100 / r_size\n",
    "        \n",
    "        avg_cost=r_loss/(idx+1)\n",
    "        \n",
    "        progress_bar.set_description(f'[Training] loss: {r_loss/(idx+1):.4f}, accuracy: {accuracy:.4f}')\n",
    "\n",
    "    return avg_cost,accuracy\n",
    "\n"
   ],
   "metadata": {
    "collapsed": false,
    "ExecuteTime": {
     "end_time": "2024-02-21T14:54:18.018186700Z",
     "start_time": "2024-02-21T14:54:18.003481900Z"
    }
   },
   "id": "b54630691a95077d",
   "execution_count": 21
  },
  {
   "cell_type": "markdown",
   "source": [
    "### Resnet 구현해보기"
   ],
   "metadata": {
    "collapsed": false
   },
   "id": "27c550724faaed52"
  },
  {
   "cell_type": "code",
   "outputs": [],
   "source": [
    "class ResidualBlock(nn.Module):\n",
    "    \n",
    "    def __init__(self, input=64, output=64,stride=1):\n",
    "        super(ResidualBlock, self).__init__()\n",
    "        \n",
    "        self.input = input\n",
    "        self.output = output\n",
    "        self.stride = stride\n",
    "        \n",
    "        self.layer = nn.Sequential(\n",
    "            nn.Conv2d(input, output, kernel_size=1,bias=False),\n",
    "            nn.BatchNorm2d(output),\n",
    "            nn.ReLU(),\n",
    "            nn.Conv2d(output, output, kernel_size=3, stride=stride, padding=1, bias=False),\n",
    "            nn.BatchNorm2d(output),\n",
    "            nn.ReLU(),\n",
    "            nn.Conv2d(output, output*4, kernel_size=1, bias=False),\n",
    "            nn.BatchNorm2d(output*4))\n",
    "        \n",
    "        self.projection = nn.Sequential(\n",
    "            nn.Conv2d(input, output*4, kernel_size=1, stride=stride, bias=False),\n",
    "            nn.BatchNorm2d(output*4))                           \n",
    "\n",
    "    def forward(self, x):\n",
    "        identity = x\n",
    "        x = self.layer(x)\n",
    "        if self.input != self.output*4:\n",
    "            identity = self.projection(identity)\n",
    "        x += identity\n",
    "        return x\n"
   ],
   "metadata": {
    "collapsed": false,
    "ExecuteTime": {
     "end_time": "2024-02-21T14:54:18.063054700Z",
     "start_time": "2024-02-21T14:54:18.004483400Z"
    }
   },
   "id": "de23600c3ac64335",
   "execution_count": 22
  },
  {
   "cell_type": "code",
   "outputs": [],
   "source": [
    "class Resnet(nn.Module):\n",
    "    \n",
    "    def __init__(self,input=3,num_classes=100):\n",
    "        super(Resnet,self).__init__()\n",
    "\n",
    "        self.input = input\n",
    "        self.conv1=nn.Sequential(\n",
    "            nn.Conv2d(3,64,kernel_size=3,padding=1,bias=False),\n",
    "            nn.BatchNorm2d(64),\n",
    "            nn.ReLU()\n",
    "        )\n",
    "        \n",
    "        self.conv2=self._make_layer(64,64,3,1)\n",
    "        self.conv3=self._make_layer(256,128,4,2)\n",
    "        self.conv4=self._make_layer(512,256,6,2)\n",
    "        self.conv5=self._make_layer(1024,512,3,2)\n",
    "        \n",
    "        \n",
    "        self.avg_pool = nn.AdaptiveAvgPool2d((1, 1))\n",
    "        self.fc = nn.Linear(2048, num_classes)\n",
    "        \n",
    "        for m in self.modules():\n",
    "          if isinstance(m,nn.Conv2d): # Conv층 초기화\n",
    "            nn.init.kaiming_normal_(m.weight,mode='fan_out',nonlinearity='relu') #kaming_normal 분포로 가중치 초기화\n",
    "            if m.bias is not None:\n",
    "              nn.init.constant_(m.bias,0) # init_constant_상수로 초기화\n",
    "          elif isinstance(m,nn.BatchNorm2d):# BatchNorm 초기화\n",
    "            nn.init.constant_(m.weight,1)\n",
    "            nn.init.constant_(m.bias,0)\n",
    "          elif isinstance(m,nn.Linear):# Linear층 초기화\n",
    "            nn.init.normal_(m.weight,0,0.01) # 평균이 0이고, 표준편차가 0.01 분포로 설\n",
    "            nn.init.constant_(m.bias,0)                 \n",
    "        \n",
    "    \n",
    "    def _make_layer(self,input_ch,output,num,stride):\n",
    "        layers=[]\n",
    "        # 첫 번째 ResidualBlock 생성 시 입력 채널 수와 출력 채널 수를 설정합니다.\n",
    "        layers.append(ResidualBlock(input_ch, output,stride))\n",
    "        input_ch = output * 4  # 다음 레이어의 입력 채널 수를 설정하기 위해 업데이트합니다.\n",
    "        for _ in range(num-1):\n",
    "            # 나머지 ResidualBlock들을 생성할 때도 입력 채널 수와 출력 채널 수를 설정합니다.\n",
    "            layers.append(ResidualBlock(input_ch, output))\n",
    "        return nn.Sequential(*layers)\n",
    "        \n",
    "    def forward(self,x):\n",
    "        output=self.conv1(x)\n",
    "        output=self.conv2(output)\n",
    "        output=self.conv3(output)\n",
    "        output=self.conv4(output)\n",
    "        output=self.conv5(output)\n",
    "        output=self.avg_pool(output)\n",
    "        output=output.view(output.size(0),-1)\n",
    "        output=self.fc(output)\n",
    "        \n",
    "        return output\n"
   ],
   "metadata": {
    "collapsed": false,
    "ExecuteTime": {
     "end_time": "2024-02-21T14:54:18.064054200Z",
     "start_time": "2024-02-21T14:54:18.045063600Z"
    }
   },
   "id": "9c90439dc9475a54",
   "execution_count": 23
  },
  {
   "cell_type": "code",
   "outputs": [
    {
     "name": "stdout",
     "output_type": "stream",
     "text": [
      "----------------------------------------------------------------\n",
      "        Layer (type)               Output Shape         Param #\n",
      "================================================================\n",
      "            Conv2d-1           [-1, 64, 32, 32]           1,728\n",
      "       BatchNorm2d-2           [-1, 64, 32, 32]             128\n",
      "              ReLU-3           [-1, 64, 32, 32]               0\n",
      "            Conv2d-4           [-1, 64, 32, 32]           4,096\n",
      "       BatchNorm2d-5           [-1, 64, 32, 32]             128\n",
      "              ReLU-6           [-1, 64, 32, 32]               0\n",
      "            Conv2d-7           [-1, 64, 32, 32]          36,864\n",
      "       BatchNorm2d-8           [-1, 64, 32, 32]             128\n",
      "              ReLU-9           [-1, 64, 32, 32]               0\n",
      "           Conv2d-10          [-1, 256, 32, 32]          16,384\n",
      "      BatchNorm2d-11          [-1, 256, 32, 32]             512\n",
      "           Conv2d-12          [-1, 256, 32, 32]          16,384\n",
      "      BatchNorm2d-13          [-1, 256, 32, 32]             512\n",
      "    ResidualBlock-14          [-1, 256, 32, 32]               0\n",
      "           Conv2d-15           [-1, 64, 32, 32]          16,384\n",
      "      BatchNorm2d-16           [-1, 64, 32, 32]             128\n",
      "             ReLU-17           [-1, 64, 32, 32]               0\n",
      "           Conv2d-18           [-1, 64, 32, 32]          36,864\n",
      "      BatchNorm2d-19           [-1, 64, 32, 32]             128\n",
      "             ReLU-20           [-1, 64, 32, 32]               0\n",
      "           Conv2d-21          [-1, 256, 32, 32]          16,384\n",
      "      BatchNorm2d-22          [-1, 256, 32, 32]             512\n",
      "    ResidualBlock-23          [-1, 256, 32, 32]               0\n",
      "           Conv2d-24           [-1, 64, 32, 32]          16,384\n",
      "      BatchNorm2d-25           [-1, 64, 32, 32]             128\n",
      "             ReLU-26           [-1, 64, 32, 32]               0\n",
      "           Conv2d-27           [-1, 64, 32, 32]          36,864\n",
      "      BatchNorm2d-28           [-1, 64, 32, 32]             128\n",
      "             ReLU-29           [-1, 64, 32, 32]               0\n",
      "           Conv2d-30          [-1, 256, 32, 32]          16,384\n",
      "      BatchNorm2d-31          [-1, 256, 32, 32]             512\n",
      "    ResidualBlock-32          [-1, 256, 32, 32]               0\n",
      "           Conv2d-33          [-1, 128, 32, 32]          32,768\n",
      "      BatchNorm2d-34          [-1, 128, 32, 32]             256\n",
      "             ReLU-35          [-1, 128, 32, 32]               0\n",
      "           Conv2d-36          [-1, 128, 16, 16]         147,456\n",
      "      BatchNorm2d-37          [-1, 128, 16, 16]             256\n",
      "             ReLU-38          [-1, 128, 16, 16]               0\n",
      "           Conv2d-39          [-1, 512, 16, 16]          65,536\n",
      "      BatchNorm2d-40          [-1, 512, 16, 16]           1,024\n",
      "           Conv2d-41          [-1, 512, 16, 16]         131,072\n",
      "      BatchNorm2d-42          [-1, 512, 16, 16]           1,024\n",
      "    ResidualBlock-43          [-1, 512, 16, 16]               0\n",
      "           Conv2d-44          [-1, 128, 16, 16]          65,536\n",
      "      BatchNorm2d-45          [-1, 128, 16, 16]             256\n",
      "             ReLU-46          [-1, 128, 16, 16]               0\n",
      "           Conv2d-47          [-1, 128, 16, 16]         147,456\n",
      "      BatchNorm2d-48          [-1, 128, 16, 16]             256\n",
      "             ReLU-49          [-1, 128, 16, 16]               0\n",
      "           Conv2d-50          [-1, 512, 16, 16]          65,536\n",
      "      BatchNorm2d-51          [-1, 512, 16, 16]           1,024\n",
      "    ResidualBlock-52          [-1, 512, 16, 16]               0\n",
      "           Conv2d-53          [-1, 128, 16, 16]          65,536\n",
      "      BatchNorm2d-54          [-1, 128, 16, 16]             256\n",
      "             ReLU-55          [-1, 128, 16, 16]               0\n",
      "           Conv2d-56          [-1, 128, 16, 16]         147,456\n",
      "      BatchNorm2d-57          [-1, 128, 16, 16]             256\n",
      "             ReLU-58          [-1, 128, 16, 16]               0\n",
      "           Conv2d-59          [-1, 512, 16, 16]          65,536\n",
      "      BatchNorm2d-60          [-1, 512, 16, 16]           1,024\n",
      "    ResidualBlock-61          [-1, 512, 16, 16]               0\n",
      "           Conv2d-62          [-1, 128, 16, 16]          65,536\n",
      "      BatchNorm2d-63          [-1, 128, 16, 16]             256\n",
      "             ReLU-64          [-1, 128, 16, 16]               0\n",
      "           Conv2d-65          [-1, 128, 16, 16]         147,456\n",
      "      BatchNorm2d-66          [-1, 128, 16, 16]             256\n",
      "             ReLU-67          [-1, 128, 16, 16]               0\n",
      "           Conv2d-68          [-1, 512, 16, 16]          65,536\n",
      "      BatchNorm2d-69          [-1, 512, 16, 16]           1,024\n",
      "    ResidualBlock-70          [-1, 512, 16, 16]               0\n",
      "           Conv2d-71          [-1, 256, 16, 16]         131,072\n",
      "      BatchNorm2d-72          [-1, 256, 16, 16]             512\n",
      "             ReLU-73          [-1, 256, 16, 16]               0\n",
      "           Conv2d-74            [-1, 256, 8, 8]         589,824\n",
      "      BatchNorm2d-75            [-1, 256, 8, 8]             512\n",
      "             ReLU-76            [-1, 256, 8, 8]               0\n",
      "           Conv2d-77           [-1, 1024, 8, 8]         262,144\n",
      "      BatchNorm2d-78           [-1, 1024, 8, 8]           2,048\n",
      "           Conv2d-79           [-1, 1024, 8, 8]         524,288\n",
      "      BatchNorm2d-80           [-1, 1024, 8, 8]           2,048\n",
      "    ResidualBlock-81           [-1, 1024, 8, 8]               0\n",
      "           Conv2d-82            [-1, 256, 8, 8]         262,144\n",
      "      BatchNorm2d-83            [-1, 256, 8, 8]             512\n",
      "             ReLU-84            [-1, 256, 8, 8]               0\n",
      "           Conv2d-85            [-1, 256, 8, 8]         589,824\n",
      "      BatchNorm2d-86            [-1, 256, 8, 8]             512\n",
      "             ReLU-87            [-1, 256, 8, 8]               0\n",
      "           Conv2d-88           [-1, 1024, 8, 8]         262,144\n",
      "      BatchNorm2d-89           [-1, 1024, 8, 8]           2,048\n",
      "    ResidualBlock-90           [-1, 1024, 8, 8]               0\n",
      "           Conv2d-91            [-1, 256, 8, 8]         262,144\n",
      "      BatchNorm2d-92            [-1, 256, 8, 8]             512\n",
      "             ReLU-93            [-1, 256, 8, 8]               0\n",
      "           Conv2d-94            [-1, 256, 8, 8]         589,824\n",
      "      BatchNorm2d-95            [-1, 256, 8, 8]             512\n",
      "             ReLU-96            [-1, 256, 8, 8]               0\n",
      "           Conv2d-97           [-1, 1024, 8, 8]         262,144\n",
      "      BatchNorm2d-98           [-1, 1024, 8, 8]           2,048\n",
      "    ResidualBlock-99           [-1, 1024, 8, 8]               0\n",
      "          Conv2d-100            [-1, 256, 8, 8]         262,144\n",
      "     BatchNorm2d-101            [-1, 256, 8, 8]             512\n",
      "            ReLU-102            [-1, 256, 8, 8]               0\n",
      "          Conv2d-103            [-1, 256, 8, 8]         589,824\n",
      "     BatchNorm2d-104            [-1, 256, 8, 8]             512\n",
      "            ReLU-105            [-1, 256, 8, 8]               0\n",
      "          Conv2d-106           [-1, 1024, 8, 8]         262,144\n",
      "     BatchNorm2d-107           [-1, 1024, 8, 8]           2,048\n",
      "   ResidualBlock-108           [-1, 1024, 8, 8]               0\n",
      "          Conv2d-109            [-1, 256, 8, 8]         262,144\n",
      "     BatchNorm2d-110            [-1, 256, 8, 8]             512\n",
      "            ReLU-111            [-1, 256, 8, 8]               0\n",
      "          Conv2d-112            [-1, 256, 8, 8]         589,824\n",
      "     BatchNorm2d-113            [-1, 256, 8, 8]             512\n",
      "            ReLU-114            [-1, 256, 8, 8]               0\n",
      "          Conv2d-115           [-1, 1024, 8, 8]         262,144\n",
      "     BatchNorm2d-116           [-1, 1024, 8, 8]           2,048\n",
      "   ResidualBlock-117           [-1, 1024, 8, 8]               0\n",
      "          Conv2d-118            [-1, 256, 8, 8]         262,144\n",
      "     BatchNorm2d-119            [-1, 256, 8, 8]             512\n",
      "            ReLU-120            [-1, 256, 8, 8]               0\n",
      "          Conv2d-121            [-1, 256, 8, 8]         589,824\n",
      "     BatchNorm2d-122            [-1, 256, 8, 8]             512\n",
      "            ReLU-123            [-1, 256, 8, 8]               0\n",
      "          Conv2d-124           [-1, 1024, 8, 8]         262,144\n",
      "     BatchNorm2d-125           [-1, 1024, 8, 8]           2,048\n",
      "   ResidualBlock-126           [-1, 1024, 8, 8]               0\n",
      "          Conv2d-127            [-1, 512, 8, 8]         524,288\n",
      "     BatchNorm2d-128            [-1, 512, 8, 8]           1,024\n",
      "            ReLU-129            [-1, 512, 8, 8]               0\n",
      "          Conv2d-130            [-1, 512, 4, 4]       2,359,296\n",
      "     BatchNorm2d-131            [-1, 512, 4, 4]           1,024\n",
      "            ReLU-132            [-1, 512, 4, 4]               0\n",
      "          Conv2d-133           [-1, 2048, 4, 4]       1,048,576\n",
      "     BatchNorm2d-134           [-1, 2048, 4, 4]           4,096\n",
      "          Conv2d-135           [-1, 2048, 4, 4]       2,097,152\n",
      "     BatchNorm2d-136           [-1, 2048, 4, 4]           4,096\n",
      "   ResidualBlock-137           [-1, 2048, 4, 4]               0\n",
      "          Conv2d-138            [-1, 512, 4, 4]       1,048,576\n",
      "     BatchNorm2d-139            [-1, 512, 4, 4]           1,024\n",
      "            ReLU-140            [-1, 512, 4, 4]               0\n",
      "          Conv2d-141            [-1, 512, 4, 4]       2,359,296\n",
      "     BatchNorm2d-142            [-1, 512, 4, 4]           1,024\n",
      "            ReLU-143            [-1, 512, 4, 4]               0\n",
      "          Conv2d-144           [-1, 2048, 4, 4]       1,048,576\n",
      "     BatchNorm2d-145           [-1, 2048, 4, 4]           4,096\n",
      "   ResidualBlock-146           [-1, 2048, 4, 4]               0\n",
      "          Conv2d-147            [-1, 512, 4, 4]       1,048,576\n",
      "     BatchNorm2d-148            [-1, 512, 4, 4]           1,024\n",
      "            ReLU-149            [-1, 512, 4, 4]               0\n",
      "          Conv2d-150            [-1, 512, 4, 4]       2,359,296\n",
      "     BatchNorm2d-151            [-1, 512, 4, 4]           1,024\n",
      "            ReLU-152            [-1, 512, 4, 4]               0\n",
      "          Conv2d-153           [-1, 2048, 4, 4]       1,048,576\n",
      "     BatchNorm2d-154           [-1, 2048, 4, 4]           4,096\n",
      "   ResidualBlock-155           [-1, 2048, 4, 4]               0\n",
      "AdaptiveAvgPool2d-156           [-1, 2048, 1, 1]               0\n",
      "          Linear-157                  [-1, 100]         204,900\n",
      "================================================================\n",
      "Total params: 23,705,252\n",
      "Trainable params: 23,705,252\n",
      "Non-trainable params: 0\n",
      "----------------------------------------------------------------\n",
      "Input size (MB): 0.01\n",
      "Forward/backward pass size (MB): 74.83\n",
      "Params size (MB): 90.43\n",
      "Estimated Total Size (MB): 165.27\n",
      "----------------------------------------------------------------\n"
     ]
    }
   ],
   "source": [
    "model=Resnet()\n",
    "model.to(device)\n",
    "\n",
    "torchsummary.summary(model,input_size=(3,32,32),device='cuda')\n"
   ],
   "metadata": {
    "collapsed": false,
    "ExecuteTime": {
     "end_time": "2024-02-21T19:07:41.790381400Z",
     "start_time": "2024-02-21T19:07:40.903031600Z"
    }
   },
   "id": "ee115ea73b69c10c",
   "execution_count": 64
  },
  {
   "cell_type": "code",
   "outputs": [
    {
     "name": "stdout",
     "output_type": "stream",
     "text": [
      "mkdir: cannot create directory ‘./models3’: File exists\r\n"
     ]
    }
   ],
   "source": [
    "%mkdir './models3'"
   ],
   "metadata": {
    "collapsed": false,
    "ExecuteTime": {
     "end_time": "2024-02-21T14:54:19.638750900Z",
     "start_time": "2024-02-21T14:54:19.416025700Z"
    }
   },
   "id": "f6ed60a0f07c9862",
   "execution_count": 25
  },
  {
   "cell_type": "code",
   "outputs": [],
   "source": [],
   "metadata": {
    "collapsed": false
   },
   "id": "2e5d11b6072b5fa5"
  },
  {
   "cell_type": "code",
   "outputs": [
    {
     "name": "stdout",
     "output_type": "stream",
     "text": [
      "Epoch=0/199,currnet lr=0.001\n"
     ]
    },
    {
     "name": "stderr",
     "output_type": "stream",
     "text": [
      "[Training] loss: 4.2120, accuracy: 7.3792: 100%|██████████| 48/48 [01:08<00:00,  1.42s/it]\n"
     ]
    },
    {
     "name": "stdout",
     "output_type": "stream",
     "text": [
      "3.924207978439331 0.1225\n",
      "Copied best model weights!\n",
      "Execution Time: 0 시간 1 분\n",
      "Epoch=1/199,currnet lr=0.0009997535269026829\n"
     ]
    },
    {
     "name": "stderr",
     "output_type": "stream",
     "text": [
      "[Training] loss: 3.6784, accuracy: 14.8926: 100%|██████████| 48/48 [01:09<00:00,  1.44s/it]\n"
     ]
    },
    {
     "name": "stdout",
     "output_type": "stream",
     "text": [
      "3.7001752433776853 0.1763\n",
      "Copied best model weights!\n",
      "Execution Time: 0 시간 2 분\n",
      "Epoch=2/199,currnet lr=0.0009990143508499217\n"
     ]
    },
    {
     "name": "stderr",
     "output_type": "stream",
     "text": [
      "[Training] loss: 3.3013, accuracy: 21.2036: 100%|██████████| 48/48 [01:09<00:00,  1.46s/it]\n"
     ]
    },
    {
     "name": "stdout",
     "output_type": "stream",
     "text": [
      "3.2898125312805178 0.2184\n",
      "Copied best model weights!\n",
      "Execution Time: 0 시간 3 분\n",
      "Epoch=3/199,currnet lr=0.0009977832013192385\n"
     ]
    },
    {
     "name": "stderr",
     "output_type": "stream",
     "text": [
      "[Training] loss: 2.8860, accuracy: 28.5583: 100%|██████████| 48/48 [01:08<00:00,  1.43s/it]\n"
     ]
    },
    {
     "name": "stdout",
     "output_type": "stream",
     "text": [
      "2.8376904624938963 0.3149\n",
      "Copied best model weights!\n",
      "Execution Time: 0 시간 4 분\n",
      "Epoch=4/199,currnet lr=0.0009960612933065818\n"
     ]
    },
    {
     "name": "stderr",
     "output_type": "stream",
     "text": [
      "[Training] loss: 2.6011, accuracy: 34.2468: 100%|██████████| 48/48 [01:08<00:00,  1.43s/it]\n"
     ]
    },
    {
     "name": "stdout",
     "output_type": "stream",
     "text": [
      "2.5347227588653563 0.3643\n",
      "Copied best model weights!\n",
      "Execution Time: 0 시간 6 분\n",
      "Epoch=5/199,currnet lr=0.0009938503261272714\n"
     ]
    },
    {
     "name": "stderr",
     "output_type": "stream",
     "text": [
      "[Training] loss: 2.3505, accuracy: 39.3636: 100%|██████████| 48/48 [01:08<00:00,  1.43s/it]\n"
     ]
    },
    {
     "name": "stdout",
     "output_type": "stream",
     "text": [
      "2.679584097671509 0.3599\n",
      "Execution Time: 0 시간 7 분\n",
      "Epoch=6/199,currnet lr=0.00099115248173898\n"
     ]
    },
    {
     "name": "stderr",
     "output_type": "stream",
     "text": [
      "[Training] loss: 2.1828, accuracy: 42.7327: 100%|██████████| 48/48 [01:09<00:00,  1.44s/it]\n"
     ]
    },
    {
     "name": "stdout",
     "output_type": "stream",
     "text": [
      "2.179368307495117 0.4414\n",
      "Copied best model weights!\n",
      "Execution Time: 0 시간 8 분\n",
      "Epoch=7/199,currnet lr=0.0009879704225884043\n"
     ]
    },
    {
     "name": "stderr",
     "output_type": "stream",
     "text": [
      "[Training] loss: 2.0242, accuracy: 46.6044: 100%|██████████| 48/48 [01:08<00:00,  1.44s/it]\n"
     ]
    },
    {
     "name": "stdout",
     "output_type": "stream",
     "text": [
      "1.8879806234359742 0.4952\n",
      "Copied best model weights!\n",
      "Execution Time: 0 시간 9 분\n",
      "Epoch=8/199,currnet lr=0.0009843072889837512\n"
     ]
    },
    {
     "name": "stderr",
     "output_type": "stream",
     "text": [
      "[Training] loss: 1.8893, accuracy: 49.5178: 100%|██████████| 48/48 [01:08<00:00,  1.44s/it]\n"
     ]
    },
    {
     "name": "stdout",
     "output_type": "stream",
     "text": [
      "2.2761821266174316 0.4339\n",
      "Execution Time: 0 시간 11 분\n",
      "Epoch=9/199,currnet lr=0.000980166695995633\n"
     ]
    },
    {
     "name": "stderr",
     "output_type": "stream",
     "text": [
      "[Training] loss: 1.7903, accuracy: 51.6296: 100%|██████████| 48/48 [01:09<00:00,  1.44s/it]\n"
     ]
    },
    {
     "name": "stdout",
     "output_type": "stream",
     "text": [
      "1.9694510005950927 0.482\n",
      "Execution Time: 0 시간 12 분\n",
      "Epoch=10/199,currnet lr=0.0009755527298894294\n"
     ]
    },
    {
     "name": "stderr",
     "output_type": "stream",
     "text": [
      "[Training] loss: 1.6927, accuracy: 53.9083: 100%|██████████| 48/48 [01:09<00:00,  1.44s/it]\n"
     ]
    },
    {
     "name": "stdout",
     "output_type": "stream",
     "text": [
      "1.6919712135314942 0.5466\n",
      "Copied best model weights!\n",
      "Execution Time: 0 시간 13 분\n",
      "Epoch=11/199,currnet lr=0.0009704699440926358\n"
     ]
    },
    {
     "name": "stderr",
     "output_type": "stream",
     "text": [
      "[Training] loss: 1.6030, accuracy: 56.0445: 100%|██████████| 48/48 [01:09<00:00,  1.44s/it]\n"
     ]
    },
    {
     "name": "stdout",
     "output_type": "stream",
     "text": [
      "1.5246440818786622 0.5719\n",
      "Copied best model weights!\n",
      "Execution Time: 0 시간 14 분\n",
      "Epoch=12/199,currnet lr=0.0009649233547011817\n"
     ]
    },
    {
     "name": "stderr",
     "output_type": "stream",
     "text": [
      "[Training] loss: 1.5404, accuracy: 57.6029: 100%|██████████| 48/48 [01:09<00:00,  1.44s/it]\n"
     ]
    },
    {
     "name": "stdout",
     "output_type": "stream",
     "text": [
      "1.7679595342636107 0.5306\n",
      "Execution Time: 0 시간 15 분\n",
      "Epoch=13/199,currnet lr=0.0009589184355291487\n"
     ]
    },
    {
     "name": "stderr",
     "output_type": "stream",
     "text": [
      "[Training] loss: 1.4833, accuracy: 59.0902: 100%|██████████| 48/48 [01:09<00:00,  1.45s/it]\n"
     ]
    },
    {
     "name": "stdout",
     "output_type": "stream",
     "text": [
      "1.6984009771347046 0.5597\n",
      "Execution Time: 0 시간 17 분\n",
      "Epoch=14/199,currnet lr=0.000952461112706777\n"
     ]
    },
    {
     "name": "stderr",
     "output_type": "stream",
     "text": [
      "[Training] loss: 1.4259, accuracy: 60.5042: 100%|██████████| 48/48 [01:08<00:00,  1.43s/it]\n"
     ]
    },
    {
     "name": "stdout",
     "output_type": "stream",
     "text": [
      "1.8527996171951293 0.5398\n",
      "Execution Time: 0 시간 18 분\n",
      "Epoch=15/199,currnet lr=0.00094555775883209\n"
     ]
    },
    {
     "name": "stderr",
     "output_type": "stream",
     "text": [
      "[Training] loss: 1.3634, accuracy: 61.9344: 100%|██████████| 48/48 [01:08<00:00,  1.42s/it]\n"
     ]
    },
    {
     "name": "stdout",
     "output_type": "stream",
     "text": [
      "1.6314411849975585 0.5662\n",
      "Execution Time: 0 시간 19 분\n",
      "Epoch=16/199,currnet lr=0.0009382151866819101\n"
     ]
    },
    {
     "name": "stderr",
     "output_type": "stream",
     "text": [
      "[Training] loss: 1.3162, accuracy: 63.1185: 100%|██████████| 48/48 [01:09<00:00,  1.44s/it]\n"
     ]
    },
    {
     "name": "stdout",
     "output_type": "stream",
     "text": [
      "1.6472915939331054 0.5764\n",
      "Execution Time: 0 시간 20 분\n",
      "Epoch=17/199,currnet lr=0.0009304406424884702\n"
     ]
    },
    {
     "name": "stderr",
     "output_type": "stream",
     "text": [
      "[Training] loss: 1.2658, accuracy: 64.4552: 100%|██████████| 48/48 [01:08<00:00,  1.44s/it]\n"
     ]
    },
    {
     "name": "stdout",
     "output_type": "stream",
     "text": [
      "1.5279567598342896 0.5926\n",
      "Execution Time: 0 시간 21 분\n",
      "Epoch=18/199,currnet lr=0.000922241798788257\n"
     ]
    },
    {
     "name": "stderr",
     "output_type": "stream",
     "text": [
      "[Training] loss: 1.2287, accuracy: 65.3300: 100%|██████████| 48/48 [01:08<00:00,  1.43s/it]\n"
     ]
    },
    {
     "name": "stdout",
     "output_type": "stream",
     "text": [
      "1.4383240982055665 0.6131\n",
      "Copied best model weights!\n",
      "Execution Time: 0 시간 23 분\n",
      "Epoch=19/199,currnet lr=0.0009136267468501441\n"
     ]
    },
    {
     "name": "stderr",
     "output_type": "stream",
     "text": [
      "[Training] loss: 1.1852, accuracy: 66.5263: 100%|██████████| 48/48 [01:08<00:00,  1.43s/it]\n"
     ]
    },
    {
     "name": "stdout",
     "output_type": "stream",
     "text": [
      "1.5941800022125243 0.5966\n",
      "Execution Time: 0 시간 24 분\n",
      "Epoch=20/199,currnet lr=0.0009046039886902867\n"
     ]
    },
    {
     "name": "stderr",
     "output_type": "stream",
     "text": [
      "[Training] loss: 1.1487, accuracy: 67.2648: 100%|██████████| 48/48 [01:08<00:00,  1.42s/it]\n"
     ]
    },
    {
     "name": "stdout",
     "output_type": "stream",
     "text": [
      "1.501122912979126 0.6098\n",
      "Execution Time: 0 시간 25 분\n",
      "Epoch=21/199,currnet lr=0.0008951824286816577\n"
     ]
    },
    {
     "name": "stderr",
     "output_type": "stream",
     "text": [
      "[Training] loss: 1.1047, accuracy: 68.3329: 100%|██████████| 48/48 [01:08<00:00,  1.43s/it]\n"
     ]
    },
    {
     "name": "stdout",
     "output_type": "stream",
     "text": [
      "1.4761498617172242 0.6027\n",
      "Execution Time: 0 시간 26 분\n",
      "Epoch=22/199,currnet lr=0.0008853713647665071\n"
     ]
    },
    {
     "name": "stderr",
     "output_type": "stream",
     "text": [
      "[Training] loss: 1.0765, accuracy: 69.3766: 100%|██████████| 48/48 [01:09<00:00,  1.44s/it]\n"
     ]
    },
    {
     "name": "stdout",
     "output_type": "stream",
     "text": [
      "1.4341156158447266 0.6235\n",
      "Copied best model weights!\n",
      "Execution Time: 0 시간 28 분\n",
      "Epoch=23/199,currnet lr=0.0008751804792804149\n"
     ]
    },
    {
     "name": "stderr",
     "output_type": "stream",
     "text": [
      "[Training] loss: 1.0487, accuracy: 69.9727: 100%|██████████| 48/48 [01:09<00:00,  1.45s/it]\n"
     ]
    },
    {
     "name": "stdout",
     "output_type": "stream",
     "text": [
      "1.5196635036468507 0.6125\n",
      "Execution Time: 0 시간 29 분\n",
      "Epoch=24/199,currnet lr=0.0008646198293969954\n"
     ]
    },
    {
     "name": "stderr",
     "output_type": "stream",
     "text": [
      "[Training] loss: 1.0124, accuracy: 71.1019: 100%|██████████| 48/48 [01:09<00:00,  1.44s/it]\n"
     ]
    },
    {
     "name": "stdout",
     "output_type": "stream",
     "text": [
      "1.4480006826400758 0.6287\n",
      "Execution Time: 0 시간 30 분\n",
      "Epoch=25/199,currnet lr=0.0008536998372026807\n"
     ]
    },
    {
     "name": "stderr",
     "output_type": "stream",
     "text": [
      "[Training] loss: 0.9767, accuracy: 72.0886: 100%|██████████| 48/48 [01:10<00:00,  1.46s/it]\n"
     ]
    },
    {
     "name": "stdout",
     "output_type": "stream",
     "text": [
      "1.398794722175598 0.641\n",
      "Copied best model weights!\n",
      "Execution Time: 0 시간 31 분\n",
      "Epoch=26/199,currnet lr=0.0008424312794113804\n"
     ]
    },
    {
     "name": "stderr",
     "output_type": "stream",
     "text": [
      "[Training] loss: 0.9472, accuracy: 72.7519: 100%|██████████| 48/48 [01:09<00:00,  1.45s/it]\n"
     ]
    },
    {
     "name": "stdout",
     "output_type": "stream",
     "text": [
      "1.2866566789627074 0.6571\n",
      "Copied best model weights!\n",
      "Execution Time: 0 시간 33 분\n",
      "Epoch=27/199,currnet lr=0.0008308252767291644\n"
     ]
    },
    {
     "name": "stderr",
     "output_type": "stream",
     "text": [
      "[Training] loss: 0.9217, accuracy: 73.3195: 100%|██████████| 48/48 [01:08<00:00,  1.43s/it]\n"
     ]
    },
    {
     "name": "stdout",
     "output_type": "stream",
     "text": [
      "1.3830879920959473 0.6426\n",
      "Execution Time: 0 시간 34 분\n",
      "Epoch=28/199,currnet lr=0.0008188932828794708\n"
     ]
    },
    {
     "name": "stderr",
     "output_type": "stream",
     "text": [
      "[Training] loss: 0.9008, accuracy: 74.0540: 100%|██████████| 48/48 [01:08<00:00,  1.42s/it]\n"
     ]
    },
    {
     "name": "stdout",
     "output_type": "stream",
     "text": [
      "1.2695859350204468 0.6573\n",
      "Copied best model weights!\n",
      "Execution Time: 0 시간 35 분\n",
      "Epoch=29/199,currnet lr=0.0008066470732996621\n"
     ]
    },
    {
     "name": "stderr",
     "output_type": "stream",
     "text": [
      "[Training] loss: 0.8652, accuracy: 75.1485: 100%|██████████| 48/48 [01:09<00:00,  1.44s/it]\n"
     ]
    },
    {
     "name": "stdout",
     "output_type": "stream",
     "text": [
      "1.260751639175415 0.6681\n",
      "Copied best model weights!\n",
      "Execution Time: 0 시간 36 분\n",
      "Epoch=30/199,currnet lr=0.0007940987335200907\n"
     ]
    },
    {
     "name": "stderr",
     "output_type": "stream",
     "text": [
      "[Training] loss: 0.8497, accuracy: 75.3845: 100%|██████████| 48/48 [01:09<00:00,  1.45s/it]\n"
     ]
    },
    {
     "name": "stdout",
     "output_type": "stream",
     "text": [
      "1.3735300443649292 0.6499\n",
      "Execution Time: 0 시간 37 분\n",
      "Epoch=31/199,currnet lr=0.0007812606472371396\n"
     ]
    },
    {
     "name": "stderr",
     "output_type": "stream",
     "text": [
      "[Training] loss: 0.8227, accuracy: 76.3407: 100%|██████████| 48/48 [01:09<00:00,  1.45s/it]\n"
     ]
    },
    {
     "name": "stdout",
     "output_type": "stream",
     "text": [
      "1.3893105243682862 0.6471\n",
      "Execution Time: 0 시간 39 분\n",
      "Epoch=32/199,currnet lr=0.0007681454840920091\n"
     ]
    },
    {
     "name": "stderr",
     "output_type": "stream",
     "text": [
      "[Training] loss: 0.8015, accuracy: 76.6805: 100%|██████████| 48/48 [01:08<00:00,  1.43s/it]\n"
     ]
    },
    {
     "name": "stdout",
     "output_type": "stream",
     "text": [
      "1.281030525779724 0.6655\n",
      "Execution Time: 0 시간 40 분\n",
      "Epoch=33/199,currnet lr=0.0007547661871673109\n"
     ]
    },
    {
     "name": "stderr",
     "output_type": "stream",
     "text": [
      "[Training] loss: 0.7780, accuracy: 77.5228: 100%|██████████| 48/48 [01:09<00:00,  1.45s/it]\n"
     ]
    },
    {
     "name": "stdout",
     "output_type": "stream",
     "text": [
      "1.339356131362915 0.6733\n",
      "Execution Time: 0 시간 41 분\n",
      "Epoch=34/199,currnet lr=0.0007411359602138072\n"
     ]
    },
    {
     "name": "stderr",
     "output_type": "stream",
     "text": [
      "[Training] loss: 0.7464, accuracy: 78.4729: 100%|██████████| 48/48 [01:08<00:00,  1.42s/it]\n"
     ]
    },
    {
     "name": "stdout",
     "output_type": "stream",
     "text": [
      "1.202643960380554 0.6866\n",
      "Copied best model weights!\n",
      "Execution Time: 0 시간 42 분\n",
      "Epoch=35/199,currnet lr=0.000727268254619904\n"
     ]
    },
    {
     "name": "stderr",
     "output_type": "stream",
     "text": [
      "[Training] loss: 0.7375, accuracy: 78.7292: 100%|██████████| 48/48 [01:07<00:00,  1.40s/it]\n"
     ]
    },
    {
     "name": "stdout",
     "output_type": "stream",
     "text": [
      "1.2538892673492432 0.677\n",
      "Execution Time: 0 시간 43 분\n",
      "Epoch=36/199,currnet lr=0.0007131767561367542\n"
     ]
    },
    {
     "name": "stderr",
     "output_type": "stream",
     "text": [
      "[Training] loss: 0.7127, accuracy: 79.2725: 100%|██████████| 48/48 [01:07<00:00,  1.40s/it]\n"
     ]
    },
    {
     "name": "stdout",
     "output_type": "stream",
     "text": [
      "1.1976861164093018 0.6885\n",
      "Copied best model weights!\n",
      "Execution Time: 0 시간 45 분\n",
      "Epoch=37/199,currnet lr=0.0006988753713720732\n"
     ]
    },
    {
     "name": "stderr",
     "output_type": "stream",
     "text": [
      "[Training] loss: 0.7023, accuracy: 79.5959: 100%|██████████| 48/48 [01:08<00:00,  1.43s/it]\n"
     ]
    },
    {
     "name": "stdout",
     "output_type": "stream",
     "text": [
      "1.3001581447601318 0.6826\n",
      "Execution Time: 0 시간 46 분\n",
      "Epoch=38/199,currnet lr=0.000684378214065997\n"
     ]
    },
    {
     "name": "stderr",
     "output_type": "stream",
     "text": [
      "[Training] loss: 0.6750, accuracy: 80.3955: 100%|██████████| 48/48 [01:07<00:00,  1.40s/it]\n"
     ]
    },
    {
     "name": "stdout",
     "output_type": "stream",
     "text": [
      "1.245800083732605 0.6881\n",
      "Execution Time: 0 시간 47 분\n",
      "Epoch=39/199,currnet lr=0.0006696995911625234\n"
     ]
    },
    {
     "name": "stderr",
     "output_type": "stream",
     "text": [
      "[Training] loss: 0.6439, accuracy: 81.2642: 100%|██████████| 48/48 [01:07<00:00,  1.41s/it]\n"
     ]
    },
    {
     "name": "stdout",
     "output_type": "stream",
     "text": [
      "1.261896071243286 0.6881\n",
      "Execution Time: 0 시간 48 분\n",
      "Epoch=40/199,currnet lr=0.0006548539886902865\n"
     ]
    },
    {
     "name": "stderr",
     "output_type": "stream",
     "text": [
      "[Training] loss: 0.6363, accuracy: 81.5979: 100%|██████████| 48/48 [01:07<00:00,  1.40s/it]\n"
     ]
    },
    {
     "name": "stdout",
     "output_type": "stream",
     "text": [
      "1.2772604932785034 0.6912\n",
      "Execution Time: 0 시간 49 분\n",
      "Epoch=41/199,currnet lr=0.0006398560574665953\n"
     ]
    },
    {
     "name": "stderr",
     "output_type": "stream",
     "text": [
      "[Training] loss: 0.6154, accuracy: 82.2754: 100%|██████████| 48/48 [01:07<00:00,  1.41s/it]\n"
     ]
    },
    {
     "name": "stdout",
     "output_type": "stream",
     "text": [
      "1.3892405157089234 0.6797\n",
      "Execution Time: 0 시간 51 분\n",
      "Epoch=42/199,currnet lr=0.0006247205986388451\n"
     ]
    },
    {
     "name": "stderr",
     "output_type": "stream",
     "text": [
      "[Training] loss: 0.6037, accuracy: 82.6579: 100%|██████████| 48/48 [01:07<00:00,  1.42s/it]\n"
     ]
    },
    {
     "name": "stdout",
     "output_type": "stream",
     "text": [
      "1.3542131242752076 0.6778\n",
      "Execution Time: 0 시간 52 분\n",
      "Epoch=43/199,currnet lr=0.0006094625490775733\n"
     ]
    },
    {
     "name": "stderr",
     "output_type": "stream",
     "text": [
      "[Training] loss: 0.5865, accuracy: 83.1014: 100%|██████████| 48/48 [01:07<00:00,  1.41s/it]\n"
     ]
    },
    {
     "name": "stdout",
     "output_type": "stream",
     "text": [
      "1.2764318424224854 0.6949\n",
      "Execution Time: 0 시간 53 분\n",
      "Epoch=44/199,currnet lr=0.0005940969666355698\n"
     ]
    },
    {
     "name": "stderr",
     "output_type": "stream",
     "text": [
      "[Training] loss: 0.5650, accuracy: 83.7240: 100%|██████████| 48/48 [01:08<00:00,  1.42s/it]\n"
     ]
    },
    {
     "name": "stdout",
     "output_type": "stream",
     "text": [
      "1.2002162929534912 0.7004\n",
      "Execution Time: 0 시간 54 분\n",
      "Epoch=45/199,currnet lr=0.0005786390152875956\n"
     ]
    },
    {
     "name": "stderr",
     "output_type": "stream",
     "text": [
      "[Training] loss: 0.5605, accuracy: 84.0271: 100%|██████████| 48/48 [01:07<00:00,  1.40s/it]\n"
     ]
    },
    {
     "name": "stdout",
     "output_type": "stream",
     "text": [
      "1.2155807817459106 0.7093\n",
      "Execution Time: 0 시간 55 분\n",
      "Epoch=46/199,currnet lr=0.0005631039501653703\n"
     ]
    },
    {
     "name": "stderr",
     "output_type": "stream",
     "text": [
      "[Training] loss: 0.5389, accuracy: 84.5581: 100%|██████████| 48/48 [01:07<00:00,  1.42s/it]\n"
     ]
    },
    {
     "name": "stdout",
     "output_type": "stream",
     "text": [
      "1.2785529779434204 0.697\n",
      "Execution Time: 0 시간 57 분\n",
      "Epoch=47/199,currnet lr=0.0005475071025025981\n"
     ]
    },
    {
     "name": "stderr",
     "output_type": "stream",
     "text": [
      "[Training] loss: 0.5184, accuracy: 85.1644: 100%|██████████| 48/48 [01:07<00:00,  1.40s/it]\n"
     ]
    },
    {
     "name": "stdout",
     "output_type": "stream",
     "text": [
      "1.250385515975952 0.7065\n",
      "Execution Time: 0 시간 58 분\n",
      "Epoch=48/199,currnet lr=0.0005318638645048923\n"
     ]
    },
    {
     "name": "stderr",
     "output_type": "stream",
     "text": [
      "[Training] loss: 0.5006, accuracy: 85.4960: 100%|██████████| 48/48 [01:07<00:00,  1.41s/it]\n"
     ]
    },
    {
     "name": "stdout",
     "output_type": "stream",
     "text": [
      "1.2214384832382201 0.7065\n",
      "Execution Time: 0 시간 59 분\n",
      "Epoch=49/199,currnet lr=0.0005161896741595253\n"
     ]
    },
    {
     "name": "stderr",
     "output_type": "stream",
     "text": [
      "[Training] loss: 0.4968, accuracy: 85.7422: 100%|██████████| 48/48 [01:07<00:00,  1.40s/it]\n"
     ]
    },
    {
     "name": "stdout",
     "output_type": "stream",
     "text": [
      "1.245683118057251 0.7047\n",
      "Execution Time: 1 시간 0 분\n",
      "Epoch=50/199,currnet lr=0.0005005000000000002\n"
     ]
    },
    {
     "name": "stderr",
     "output_type": "stream",
     "text": [
      "[Training] loss: 0.4857, accuracy: 86.1410: 100%|██████████| 48/48 [01:07<00:00,  1.40s/it]\n"
     ]
    },
    {
     "name": "stdout",
     "output_type": "stream",
     "text": [
      "1.1960335872650147 0.7131\n",
      "Copied best model weights!\n",
      "Execution Time: 1 시간 1 분\n",
      "Epoch=51/199,currnet lr=0.0004848103258404751\n"
     ]
    },
    {
     "name": "stderr",
     "output_type": "stream",
     "text": [
      "[Training] loss: 0.4662, accuracy: 86.6760: 100%|██████████| 48/48 [01:08<00:00,  1.43s/it]\n"
     ]
    },
    {
     "name": "stdout",
     "output_type": "stream",
     "text": [
      "1.2380711570739746 0.7103\n",
      "Execution Time: 1 시간 3 분\n",
      "Epoch=52/199,currnet lr=0.0004691361354951082\n"
     ]
    },
    {
     "name": "stderr",
     "output_type": "stream",
     "text": [
      "[Training] loss: 0.4558, accuracy: 86.9100: 100%|██████████| 48/48 [01:07<00:00,  1.41s/it]\n"
     ]
    },
    {
     "name": "stdout",
     "output_type": "stream",
     "text": [
      "1.1591389003753663 0.7188\n",
      "Copied best model weights!\n",
      "Execution Time: 1 시간 4 분\n",
      "Epoch=53/199,currnet lr=0.00045349289749740224\n"
     ]
    },
    {
     "name": "stderr",
     "output_type": "stream",
     "text": [
      "[Training] loss: 0.4460, accuracy: 87.1541: 100%|██████████| 48/48 [01:07<00:00,  1.41s/it]\n"
     ]
    },
    {
     "name": "stdout",
     "output_type": "stream",
     "text": [
      "1.2386092681884766 0.713\n",
      "Execution Time: 1 시간 5 분\n",
      "Epoch=54/199,currnet lr=0.0004378960498346302\n"
     ]
    },
    {
     "name": "stderr",
     "output_type": "stream",
     "text": [
      "[Training] loss: 0.4313, accuracy: 87.6892: 100%|██████████| 48/48 [01:08<00:00,  1.43s/it]\n"
     ]
    },
    {
     "name": "stdout",
     "output_type": "stream",
     "text": [
      "1.2309029182434081 0.7105\n",
      "Execution Time: 1 시간 6 분\n",
      "Epoch=55/199,currnet lr=0.0004223609847124048\n"
     ]
    },
    {
     "name": "stderr",
     "output_type": "stream",
     "text": [
      "[Training] loss: 0.4265, accuracy: 87.8886: 100%|██████████| 48/48 [01:07<00:00,  1.40s/it]\n"
     ]
    },
    {
     "name": "stdout",
     "output_type": "stream",
     "text": [
      "1.189794944190979 0.7151\n",
      "Execution Time: 1 시간 7 분\n",
      "Epoch=56/199,currnet lr=0.0004069030333644307\n"
     ]
    },
    {
     "name": "stderr",
     "output_type": "stream",
     "text": [
      "[Training] loss: 0.4071, accuracy: 88.5010: 100%|██████████| 48/48 [01:07<00:00,  1.41s/it]\n"
     ]
    },
    {
     "name": "stdout",
     "output_type": "stream",
     "text": [
      "1.175274185180664 0.7277\n",
      "Execution Time: 1 시간 9 분\n",
      "Epoch=57/199,currnet lr=0.0003915374509224273\n"
     ]
    },
    {
     "name": "stderr",
     "output_type": "stream",
     "text": [
      "[Training] loss: 0.3935, accuracy: 88.7817: 100%|██████████| 48/48 [01:07<00:00,  1.42s/it]\n"
     ]
    },
    {
     "name": "stdout",
     "output_type": "stream",
     "text": [
      "1.1489722829818725 0.7351\n",
      "Copied best model weights!\n",
      "Execution Time: 1 시간 10 분\n",
      "Epoch=58/199,currnet lr=0.0003762794013611551\n"
     ]
    },
    {
     "name": "stderr",
     "output_type": "stream",
     "text": [
      "[Training] loss: 0.3935, accuracy: 89.0381: 100%|██████████| 48/48 [01:07<00:00,  1.41s/it]\n"
     ]
    },
    {
     "name": "stdout",
     "output_type": "stream",
     "text": [
      "1.1867345006942749 0.7268\n",
      "Execution Time: 1 시간 11 분\n",
      "Epoch=59/199,currnet lr=0.00036114394253340513\n"
     ]
    },
    {
     "name": "stderr",
     "output_type": "stream",
     "text": [
      "[Training] loss: 0.3775, accuracy: 89.2008: 100%|██████████| 48/48 [01:07<00:00,  1.41s/it]\n"
     ]
    },
    {
     "name": "stdout",
     "output_type": "stream",
     "text": [
      "1.2774490079879761 0.7191\n",
      "Execution Time: 1 시간 12 분\n",
      "Epoch=60/199,currnet lr=0.000346146011309714\n"
     ]
    },
    {
     "name": "stderr",
     "output_type": "stream",
     "text": [
      "[Training] loss: 0.3600, accuracy: 89.8966: 100%|██████████| 48/48 [01:06<00:00,  1.39s/it]\n"
     ]
    },
    {
     "name": "stdout",
     "output_type": "stream",
     "text": [
      "1.1408814542770385 0.7348\n",
      "Copied best model weights!\n",
      "Execution Time: 1 시간 13 분\n",
      "Epoch=61/199,currnet lr=0.00033130040883747703\n"
     ]
    },
    {
     "name": "stderr",
     "output_type": "stream",
     "text": [
      "[Training] loss: 0.3548, accuracy: 90.1143: 100%|██████████| 48/48 [01:08<00:00,  1.42s/it]\n"
     ]
    },
    {
     "name": "stdout",
     "output_type": "stream",
     "text": [
      "1.201953733253479 0.7334\n",
      "Execution Time: 1 시간 15 분\n",
      "Epoch=62/199,currnet lr=0.0003166217859340036\n"
     ]
    },
    {
     "name": "stderr",
     "output_type": "stream",
     "text": [
      "[Training] loss: 0.3485, accuracy: 90.1998: 100%|██████████| 48/48 [01:07<00:00,  1.42s/it]\n"
     ]
    },
    {
     "name": "stdout",
     "output_type": "stream",
     "text": [
      "1.1382327436447144 0.7386\n",
      "Copied best model weights!\n",
      "Execution Time: 1 시간 16 분\n",
      "Epoch=63/199,currnet lr=0.0003021246286279271\n"
     ]
    },
    {
     "name": "stderr",
     "output_type": "stream",
     "text": [
      "[Training] loss: 0.3480, accuracy: 90.3056: 100%|██████████| 48/48 [01:07<00:00,  1.42s/it]\n"
     ]
    },
    {
     "name": "stdout",
     "output_type": "stream",
     "text": [
      "1.1072254415512084 0.7425\n",
      "Copied best model weights!\n",
      "Execution Time: 1 시간 17 분\n",
      "Epoch=64/199,currnet lr=0.00028782324386324626\n"
     ]
    },
    {
     "name": "stderr",
     "output_type": "stream",
     "text": [
      "[Training] loss: 0.3406, accuracy: 90.3870: 100%|██████████| 48/48 [01:07<00:00,  1.41s/it]\n"
     ]
    },
    {
     "name": "stdout",
     "output_type": "stream",
     "text": [
      "1.1481807235717774 0.7364\n",
      "Execution Time: 1 시간 18 분\n",
      "Epoch=65/199,currnet lr=0.00027373174538009644\n"
     ]
    },
    {
     "name": "stderr",
     "output_type": "stream",
     "text": [
      "[Training] loss: 0.3301, accuracy: 90.7837: 100%|██████████| 48/48 [01:08<00:00,  1.42s/it]\n"
     ]
    },
    {
     "name": "stdout",
     "output_type": "stream",
     "text": [
      "1.1542692708969116 0.7336\n",
      "Execution Time: 1 시간 19 분\n",
      "Epoch=66/199,currnet lr=0.00025986403978619317\n"
     ]
    },
    {
     "name": "stderr",
     "output_type": "stream",
     "text": [
      "[Training] loss: 0.3268, accuracy: 90.9505: 100%|██████████| 48/48 [01:08<00:00,  1.42s/it]\n"
     ]
    },
    {
     "name": "stdout",
     "output_type": "stream",
     "text": [
      "1.1318627687454224 0.7397\n",
      "Execution Time: 1 시간 21 분\n",
      "Epoch=67/199,currnet lr=0.00024623381283268956\n"
     ]
    },
    {
     "name": "stderr",
     "output_type": "stream",
     "text": [
      "[Training] loss: 0.3102, accuracy: 91.3330: 100%|██████████| 48/48 [01:07<00:00,  1.40s/it]\n"
     ]
    },
    {
     "name": "stdout",
     "output_type": "stream",
     "text": [
      "1.0771099609375 0.7513\n",
      "Copied best model weights!\n",
      "Execution Time: 1 시간 22 분\n",
      "Epoch=68/199,currnet lr=0.00023285451590799108\n"
     ]
    },
    {
     "name": "stderr",
     "output_type": "stream",
     "text": [
      "[Training] loss: 0.3057, accuracy: 91.5609: 100%|██████████| 48/48 [01:07<00:00,  1.41s/it]\n"
     ]
    },
    {
     "name": "stdout",
     "output_type": "stream",
     "text": [
      "1.0905771276474 0.7467\n",
      "Execution Time: 1 시간 23 분\n",
      "Epoch=69/199,currnet lr=0.00021973935276286074\n"
     ]
    },
    {
     "name": "stderr",
     "output_type": "stream",
     "text": [
      "[Training] loss: 0.3017, accuracy: 91.6423: 100%|██████████| 48/48 [01:07<00:00,  1.40s/it]\n"
     ]
    },
    {
     "name": "stdout",
     "output_type": "stream",
     "text": [
      "1.0864586694717406 0.7542\n",
      "Execution Time: 1 시간 24 분\n",
      "Epoch=70/199,currnet lr=0.00020690126647990976\n"
     ]
    },
    {
     "name": "stderr",
     "output_type": "stream",
     "text": [
      "[Training] loss: 0.2875, accuracy: 92.0939: 100%|██████████| 48/48 [01:07<00:00,  1.41s/it]\n"
     ]
    },
    {
     "name": "stdout",
     "output_type": "stream",
     "text": [
      "1.1141545766830445 0.7444\n",
      "Execution Time: 1 시간 25 분\n",
      "Epoch=71/199,currnet lr=0.00019435292670033822\n"
     ]
    },
    {
     "name": "stderr",
     "output_type": "stream",
     "text": [
      "[Training] loss: 0.2787, accuracy: 92.2770: 100%|██████████| 48/48 [01:06<00:00,  1.39s/it]\n"
     ]
    },
    {
     "name": "stdout",
     "output_type": "stream",
     "text": [
      "1.1167545265197754 0.7499\n",
      "Execution Time: 1 시간 27 분\n",
      "Epoch=72/199,currnet lr=0.0001821067171205295\n"
     ]
    },
    {
     "name": "stderr",
     "output_type": "stream",
     "text": [
      "[Training] loss: 0.2750, accuracy: 92.5557: 100%|██████████| 48/48 [01:06<00:00,  1.39s/it]\n"
     ]
    },
    {
     "name": "stdout",
     "output_type": "stream",
     "text": [
      "1.0682411617279053 0.7548\n",
      "Copied best model weights!\n",
      "Execution Time: 1 시간 28 분\n",
      "Epoch=73/199,currnet lr=0.000170174723270836\n"
     ]
    },
    {
     "name": "stderr",
     "output_type": "stream",
     "text": [
      "[Training] loss: 0.2665, accuracy: 92.7043: 100%|██████████| 48/48 [01:07<00:00,  1.40s/it]\n"
     ]
    },
    {
     "name": "stdout",
     "output_type": "stream",
     "text": [
      "1.0905828050613404 0.7549\n",
      "Execution Time: 1 시간 29 분\n",
      "Epoch=74/199,currnet lr=0.00015856872058862001\n"
     ]
    },
    {
     "name": "stderr",
     "output_type": "stream",
     "text": [
      "[Training] loss: 0.2576, accuracy: 92.9749: 100%|██████████| 48/48 [01:07<00:00,  1.41s/it]\n"
     ]
    },
    {
     "name": "stdout",
     "output_type": "stream",
     "text": [
      "1.066961367034912 0.7543\n",
      "Copied best model weights!\n",
      "Execution Time: 1 시간 30 분\n",
      "Epoch=75/199,currnet lr=0.00014730016279731957\n"
     ]
    },
    {
     "name": "stderr",
     "output_type": "stream",
     "text": [
      "[Training] loss: 0.2577, accuracy: 92.9525: 100%|██████████| 48/48 [01:07<00:00,  1.41s/it]\n"
     ]
    },
    {
     "name": "stdout",
     "output_type": "stream",
     "text": [
      "1.0724899085998536 0.7563\n",
      "Execution Time: 1 시간 31 분\n",
      "Epoch=76/199,currnet lr=0.00013638017060300508\n"
     ]
    },
    {
     "name": "stderr",
     "output_type": "stream",
     "text": [
      "[Training] loss: 0.2419, accuracy: 93.3573: 100%|██████████| 48/48 [01:08<00:00,  1.43s/it]\n"
     ]
    },
    {
     "name": "stdout",
     "output_type": "stream",
     "text": [
      "1.0579402782440186 0.7586\n",
      "Copied best model weights!\n",
      "Execution Time: 1 시간 33 분\n",
      "Epoch=77/199,currnet lr=0.00012581952071958545\n"
     ]
    },
    {
     "name": "stderr",
     "output_type": "stream",
     "text": [
      "[Training] loss: 0.2454, accuracy: 93.2312: 100%|██████████| 48/48 [01:07<00:00,  1.40s/it]\n"
     ]
    },
    {
     "name": "stdout",
     "output_type": "stream",
     "text": [
      "1.0319160488128662 0.7583\n",
      "Copied best model weights!\n",
      "Execution Time: 1 시간 34 분\n",
      "Epoch=78/199,currnet lr=0.00011562863523349334\n"
     ]
    },
    {
     "name": "stderr",
     "output_type": "stream",
     "text": [
      "[Training] loss: 0.2431, accuracy: 93.4041: 100%|██████████| 48/48 [01:08<00:00,  1.42s/it]\n"
     ]
    },
    {
     "name": "stdout",
     "output_type": "stream",
     "text": [
      "1.0542675704956055 0.7586\n",
      "Execution Time: 1 시간 35 분\n",
      "Epoch=79/199,currnet lr=0.00010581757131834266\n"
     ]
    },
    {
     "name": "stderr",
     "output_type": "stream",
     "text": [
      "[Training] loss: 0.2299, accuracy: 93.8049: 100%|██████████| 48/48 [01:08<00:00,  1.43s/it]\n"
     ]
    },
    {
     "name": "stdout",
     "output_type": "stream",
     "text": [
      "1.0440087242126466 0.7642\n",
      "Execution Time: 1 시간 36 분\n",
      "Epoch=80/199,currnet lr=9.639601130971382e-05\n"
     ]
    },
    {
     "name": "stderr",
     "output_type": "stream",
     "text": [
      "[Training] loss: 0.2241, accuracy: 93.8497: 100%|██████████| 48/48 [01:08<00:00,  1.42s/it]\n"
     ]
    },
    {
     "name": "stdout",
     "output_type": "stream",
     "text": [
      "1.0443597270965577 0.7623\n",
      "Execution Time: 1 시간 37 분\n",
      "Epoch=81/199,currnet lr=8.737325314985643e-05\n"
     ]
    },
    {
     "name": "stderr",
     "output_type": "stream",
     "text": [
      "[Training] loss: 0.2251, accuracy: 93.7968: 100%|██████████| 48/48 [01:08<00:00,  1.43s/it]\n"
     ]
    },
    {
     "name": "stdout",
     "output_type": "stream",
     "text": [
      "1.036434843826294 0.7603\n",
      "Execution Time: 1 시간 39 분\n",
      "Epoch=82/199,currnet lr=7.875820121174359e-05\n"
     ]
    },
    {
     "name": "stderr",
     "output_type": "stream",
     "text": [
      "[Training] loss: 0.2200, accuracy: 94.0491: 100%|██████████| 48/48 [01:07<00:00,  1.41s/it]\n"
     ]
    },
    {
     "name": "stdout",
     "output_type": "stream",
     "text": [
      "1.0268787986755372 0.7652\n",
      "Copied best model weights!\n",
      "Execution Time: 1 시간 40 분\n",
      "Epoch=83/199,currnet lr=7.05593575115301e-05\n"
     ]
    },
    {
     "name": "stderr",
     "output_type": "stream",
     "text": [
      "[Training] loss: 0.2172, accuracy: 94.0735: 100%|██████████| 48/48 [01:07<00:00,  1.40s/it]\n"
     ]
    },
    {
     "name": "stdout",
     "output_type": "stream",
     "text": [
      "1.0147225479125976 0.7675\n",
      "Copied best model weights!\n",
      "Execution Time: 1 시간 41 분\n",
      "Epoch=84/199,currnet lr=6.278481331809015e-05\n"
     ]
    },
    {
     "name": "stderr",
     "output_type": "stream",
     "text": [
      "[Training] loss: 0.2116, accuracy: 94.2566: 100%|██████████| 48/48 [01:07<00:00,  1.41s/it]\n"
     ]
    },
    {
     "name": "stdout",
     "output_type": "stream",
     "text": [
      "1.0165691360473632 0.769\n",
      "Execution Time: 1 시간 42 분\n",
      "Epoch=85/199,currnet lr=5.54422411679103e-05\n"
     ]
    },
    {
     "name": "stderr",
     "output_type": "stream",
     "text": [
      "[Training] loss: 0.2075, accuracy: 94.3604: 100%|██████████| 48/48 [01:07<00:00,  1.40s/it]\n"
     ]
    },
    {
     "name": "stdout",
     "output_type": "stream",
     "text": [
      "1.0104802698135376 0.7685\n",
      "Copied best model weights!\n",
      "Execution Time: 1 시간 43 분\n",
      "Epoch=86/199,currnet lr=4.853888729322334e-05\n"
     ]
    },
    {
     "name": "stderr",
     "output_type": "stream",
     "text": [
      "[Training] loss: 0.2049, accuracy: 94.4763: 100%|██████████| 48/48 [01:07<00:00,  1.41s/it]\n"
     ]
    },
    {
     "name": "stdout",
     "output_type": "stream",
     "text": [
      "1.011048466873169 0.7732\n",
      "Execution Time: 1 시간 45 분\n",
      "Epoch=87/199,currnet lr=4.2081564470851536e-05\n"
     ]
    },
    {
     "name": "stderr",
     "output_type": "stream",
     "text": [
      "[Training] loss: 0.2029, accuracy: 94.5516: 100%|██████████| 48/48 [01:07<00:00,  1.40s/it]\n"
     ]
    },
    {
     "name": "stdout",
     "output_type": "stream",
     "text": [
      "0.9987943839073181 0.7718\n",
      "Copied best model weights!\n",
      "Execution Time: 1 시간 46 분\n",
      "Epoch=88/199,currnet lr=3.6076645298818454e-05\n"
     ]
    },
    {
     "name": "stderr",
     "output_type": "stream",
     "text": [
      "[Training] loss: 0.2031, accuracy: 94.5414: 100%|██████████| 48/48 [01:08<00:00,  1.42s/it]\n"
     ]
    },
    {
     "name": "stdout",
     "output_type": "stream",
     "text": [
      "1.0011040539741516 0.7718\n",
      "Execution Time: 1 시간 47 분\n",
      "Epoch=89/199,currnet lr=3.053005590736439e-05\n"
     ]
    },
    {
     "name": "stderr",
     "output_type": "stream",
     "text": [
      "[Training] loss: 0.1956, accuracy: 94.7083: 100%|██████████| 48/48 [01:07<00:00,  1.41s/it]\n"
     ]
    },
    {
     "name": "stdout",
     "output_type": "stream",
     "text": [
      "1.0028438172340393 0.7715\n",
      "Execution Time: 1 시간 48 분\n",
      "Epoch=90/199,currnet lr=2.5447270110570814e-05\n"
     ]
    },
    {
     "name": "stderr",
     "output_type": "stream",
     "text": [
      "[Training] loss: 0.1968, accuracy: 94.6187: 100%|██████████| 48/48 [01:07<00:00,  1.40s/it]\n"
     ]
    },
    {
     "name": "stdout",
     "output_type": "stream",
     "text": [
      "0.994992474079132 0.7719\n",
      "Copied best model weights!\n",
      "Execution Time: 1 시간 49 분\n",
      "Epoch=91/199,currnet lr=2.0833304004366997e-05\n"
     ]
    },
    {
     "name": "stderr",
     "output_type": "stream",
     "text": [
      "[Training] loss: 0.1856, accuracy: 94.8975: 100%|██████████| 48/48 [01:07<00:00,  1.40s/it]\n"
     ]
    },
    {
     "name": "stdout",
     "output_type": "stream",
     "text": [
      "0.9967947944641113 0.7709\n",
      "Execution Time: 1 시간 51 분\n",
      "Epoch=92/199,currnet lr=1.6692711016248837e-05\n"
     ]
    },
    {
     "name": "stderr",
     "output_type": "stream",
     "text": [
      "[Training] loss: 0.1908, accuracy: 94.7774: 100%|██████████| 48/48 [01:08<00:00,  1.42s/it]\n"
     ]
    },
    {
     "name": "stdout",
     "output_type": "stream",
     "text": [
      "0.9915508179664612 0.7715\n",
      "Copied best model weights!\n",
      "Execution Time: 1 시간 52 분\n",
      "Epoch=93/199,currnet lr=1.3029577411595715e-05\n"
     ]
    },
    {
     "name": "stderr",
     "output_type": "stream",
     "text": [
      "[Training] loss: 0.1931, accuracy: 94.8669: 100%|██████████| 48/48 [01:07<00:00,  1.41s/it]\n"
     ]
    },
    {
     "name": "stdout",
     "output_type": "stream",
     "text": [
      "0.9891920598983764 0.7744\n",
      "Copied best model weights!\n",
      "Execution Time: 1 시간 53 분\n",
      "Epoch=94/199,currnet lr=9.847518261019987e-06\n"
     ]
    },
    {
     "name": "stderr",
     "output_type": "stream",
     "text": [
      "[Training] loss: 0.1856, accuracy: 94.9768: 100%|██████████| 48/48 [01:06<00:00,  1.39s/it]\n"
     ]
    },
    {
     "name": "stdout",
     "output_type": "stream",
     "text": [
      "0.9872819261550904 0.776\n",
      "Copied best model weights!\n",
      "Execution Time: 1 시간 54 분\n",
      "Epoch=95/199,currnet lr=7.14967387272874e-06\n"
     ]
    },
    {
     "name": "stderr",
     "output_type": "stream",
     "text": [
      "[Training] loss: 0.1835, accuracy: 95.1070: 100%|██████████| 48/48 [01:07<00:00,  1.41s/it]\n"
     ]
    },
    {
     "name": "stdout",
     "output_type": "stream",
     "text": [
      "0.9852245127677918 0.7743\n",
      "Copied best model weights!\n",
      "Execution Time: 1 시간 55 분\n",
      "Epoch=96/199,currnet lr=4.9387066934183575e-06\n"
     ]
    },
    {
     "name": "stderr",
     "output_type": "stream",
     "text": [
      "[Training] loss: 0.1844, accuracy: 95.0114: 100%|██████████| 48/48 [01:08<00:00,  1.42s/it]\n"
     ]
    },
    {
     "name": "stdout",
     "output_type": "stream",
     "text": [
      "0.9851449328422547 0.7764\n",
      "Copied best model weights!\n",
      "Execution Time: 1 시간 57 분\n",
      "Epoch=97/199,currnet lr=3.2167986807615425e-06\n"
     ]
    },
    {
     "name": "stderr",
     "output_type": "stream",
     "text": [
      "[Training] loss: 0.1862, accuracy: 94.9626: 100%|██████████| 48/48 [01:08<00:00,  1.42s/it]\n"
     ]
    },
    {
     "name": "stdout",
     "output_type": "stream",
     "text": [
      "0.9854546690940857 0.7759\n",
      "Execution Time: 1 시간 58 분\n",
      "Epoch=98/199,currnet lr=1.9856491500783564e-06\n"
     ]
    },
    {
     "name": "stderr",
     "output_type": "stream",
     "text": [
      "[Training] loss: 0.1837, accuracy: 95.1009: 100%|██████████| 48/48 [01:07<00:00,  1.40s/it]\n"
     ]
    },
    {
     "name": "stdout",
     "output_type": "stream",
     "text": [
      "0.9845649906158447 0.7769\n",
      "Copied best model weights!\n",
      "Execution Time: 1 시간 59 분\n",
      "Epoch=99/199,currnet lr=1.2464730973170658e-06\n"
     ]
    },
    {
     "name": "stderr",
     "output_type": "stream",
     "text": [
      "[Training] loss: 0.1855, accuracy: 95.0521: 100%|██████████| 48/48 [01:07<00:00,  1.41s/it]\n"
     ]
    },
    {
     "name": "stdout",
     "output_type": "stream",
     "text": [
      "0.9858443651199341 0.7773\n",
      "Execution Time: 2 시간 0 분\n",
      "Epoch=100/199,currnet lr=1e-06\n"
     ]
    },
    {
     "name": "stderr",
     "output_type": "stream",
     "text": [
      "[Training] loss: 0.1808, accuracy: 95.1599: 100%|██████████| 48/48 [01:07<00:00,  1.41s/it]\n"
     ]
    },
    {
     "name": "stdout",
     "output_type": "stream",
     "text": [
      "0.9856033925056458 0.7771\n",
      "Execution Time: 2 시간 1 분\n",
      "Epoch=101/199,currnet lr=1.2464730973170658e-06\n"
     ]
    },
    {
     "name": "stderr",
     "output_type": "stream",
     "text": [
      "[Training] loss: 0.1858, accuracy: 94.9626: 100%|██████████| 48/48 [01:07<00:00,  1.41s/it]\n"
     ]
    },
    {
     "name": "stdout",
     "output_type": "stream",
     "text": [
      "0.9863678633689881 0.7771\n",
      "Execution Time: 2 시간 3 분\n",
      "Epoch=102/199,currnet lr=1.9856491500783564e-06\n"
     ]
    },
    {
     "name": "stderr",
     "output_type": "stream",
     "text": [
      "[Training] loss: 0.1785, accuracy: 95.1742: 100%|██████████| 48/48 [01:06<00:00,  1.39s/it]\n"
     ]
    },
    {
     "name": "stdout",
     "output_type": "stream",
     "text": [
      "0.9844883953094482 0.7751\n",
      "Copied best model weights!\n",
      "Execution Time: 2 시간 4 분\n",
      "Epoch=103/199,currnet lr=3.2167986807615416e-06\n"
     ]
    },
    {
     "name": "stderr",
     "output_type": "stream",
     "text": [
      "[Training] loss: 0.1838, accuracy: 95.0256: 100%|██████████| 48/48 [01:08<00:00,  1.42s/it]\n"
     ]
    },
    {
     "name": "stdout",
     "output_type": "stream",
     "text": [
      "0.9856243388175965 0.7754\n",
      "Execution Time: 2 시간 5 분\n",
      "Epoch=104/199,currnet lr=4.938706693418301e-06\n"
     ]
    },
    {
     "name": "stderr",
     "output_type": "stream",
     "text": [
      "[Training] loss: 0.1843, accuracy: 94.9422: 100%|██████████| 48/48 [01:07<00:00,  1.41s/it]\n"
     ]
    },
    {
     "name": "stdout",
     "output_type": "stream",
     "text": [
      "0.9847392469406128 0.777\n",
      "Execution Time: 2 시간 6 분\n",
      "Epoch=105/199,currnet lr=7.149673872728683e-06\n"
     ]
    },
    {
     "name": "stderr",
     "output_type": "stream",
     "text": [
      "[Training] loss: 0.1847, accuracy: 95.0094: 100%|██████████| 48/48 [01:08<00:00,  1.43s/it]\n"
     ]
    },
    {
     "name": "stdout",
     "output_type": "stream",
     "text": [
      "0.9845739420890808 0.7769\n",
      "Execution Time: 2 시간 7 분\n",
      "Epoch=106/199,currnet lr=9.84751826102004e-06\n"
     ]
    },
    {
     "name": "stderr",
     "output_type": "stream",
     "text": [
      "[Training] loss: 0.1822, accuracy: 95.1599: 100%|██████████| 48/48 [01:08<00:00,  1.42s/it]\n"
     ]
    },
    {
     "name": "stdout",
     "output_type": "stream",
     "text": [
      "0.9884075610160827 0.7758\n",
      "Execution Time: 2 시간 9 분\n",
      "Epoch=107/199,currnet lr=1.3029577411595657e-05\n"
     ]
    },
    {
     "name": "stderr",
     "output_type": "stream",
     "text": [
      "[Training] loss: 0.1852, accuracy: 94.9483: 100%|██████████| 48/48 [01:08<00:00,  1.43s/it]\n"
     ]
    },
    {
     "name": "stdout",
     "output_type": "stream",
     "text": [
      "0.9836819315910339 0.7736\n",
      "Copied best model weights!\n",
      "Execution Time: 2 시간 10 분\n",
      "Epoch=108/199,currnet lr=1.669271101624872e-05\n"
     ]
    },
    {
     "name": "stderr",
     "output_type": "stream",
     "text": [
      "[Training] loss: 0.1845, accuracy: 94.9931: 100%|██████████| 48/48 [01:06<00:00,  1.39s/it]\n"
     ]
    },
    {
     "name": "stdout",
     "output_type": "stream",
     "text": [
      "0.9858226021766663 0.7742\n",
      "Execution Time: 2 시간 11 분\n",
      "Epoch=109/199,currnet lr=2.0833304004366882e-05\n"
     ]
    },
    {
     "name": "stderr",
     "output_type": "stream",
     "text": [
      "[Training] loss: 0.1833, accuracy: 95.0134: 100%|██████████| 48/48 [01:07<00:00,  1.40s/it]\n"
     ]
    },
    {
     "name": "stdout",
     "output_type": "stream",
     "text": [
      "0.995107152557373 0.7729\n",
      "Execution Time: 2 시간 12 분\n",
      "Epoch=110/199,currnet lr=2.5447270110570753e-05\n"
     ]
    },
    {
     "name": "stderr",
     "output_type": "stream",
     "text": [
      "[Training] loss: 0.1861, accuracy: 94.8771: 100%|██████████| 48/48 [01:07<00:00,  1.41s/it]\n"
     ]
    },
    {
     "name": "stdout",
     "output_type": "stream",
     "text": [
      "0.996475045967102 0.7718\n",
      "Execution Time: 2 시간 13 분\n",
      "Epoch=111/199,currnet lr=3.053005590736438e-05\n"
     ]
    },
    {
     "name": "stderr",
     "output_type": "stream",
     "text": [
      "[Training] loss: 0.1884, accuracy: 94.8975: 100%|██████████| 48/48 [01:07<00:00,  1.40s/it]\n"
     ]
    },
    {
     "name": "stdout",
     "output_type": "stream",
     "text": [
      "1.0022876607894897 0.7715\n",
      "Execution Time: 2 시간 15 분\n",
      "Epoch=112/199,currnet lr=3.6076645298818386e-05\n"
     ]
    },
    {
     "name": "stderr",
     "output_type": "stream",
     "text": [
      "[Training] loss: 0.1837, accuracy: 94.9809: 100%|██████████| 48/48 [01:07<00:00,  1.41s/it]\n"
     ]
    },
    {
     "name": "stdout",
     "output_type": "stream",
     "text": [
      "1.0102251708984376 0.7708\n",
      "Execution Time: 2 시간 16 분\n",
      "Epoch=113/199,currnet lr=4.208156447085135e-05\n"
     ]
    },
    {
     "name": "stderr",
     "output_type": "stream",
     "text": [
      "[Training] loss: 0.1894, accuracy: 94.8486: 100%|██████████| 48/48 [01:08<00:00,  1.43s/it]\n"
     ]
    },
    {
     "name": "stdout",
     "output_type": "stream",
     "text": [
      "1.0087438756942748 0.7708\n",
      "Execution Time: 2 시간 17 분\n",
      "Epoch=114/199,currnet lr=4.853888729322315e-05\n"
     ]
    },
    {
     "name": "stderr",
     "output_type": "stream",
     "text": [
      "[Training] loss: 0.1844, accuracy: 94.9788: 100%|██████████| 48/48 [01:07<00:00,  1.41s/it]\n"
     ]
    },
    {
     "name": "stdout",
     "output_type": "stream",
     "text": [
      "1.0296460754394532 0.766\n",
      "Execution Time: 2 시간 18 분\n",
      "Epoch=115/199,currnet lr=5.5442241167910324e-05\n"
     ]
    },
    {
     "name": "stderr",
     "output_type": "stream",
     "text": [
      "[Training] loss: 0.1919, accuracy: 94.8181: 100%|██████████| 48/48 [01:09<00:00,  1.44s/it]\n"
     ]
    },
    {
     "name": "stdout",
     "output_type": "stream",
     "text": [
      "1.0292154386520387 0.7671\n",
      "Execution Time: 2 시간 19 분\n",
      "Epoch=116/199,currnet lr=6.278481331809016e-05\n"
     ]
    },
    {
     "name": "stderr",
     "output_type": "stream",
     "text": [
      "[Training] loss: 0.1966, accuracy: 94.7347: 100%|██████████| 48/48 [01:07<00:00,  1.41s/it]\n"
     ]
    },
    {
     "name": "stdout",
     "output_type": "stream",
     "text": [
      "1.0379844301223755 0.7682\n",
      "Execution Time: 2 시간 21 분\n",
      "Epoch=117/199,currnet lr=7.055935751153012e-05\n"
     ]
    },
    {
     "name": "stderr",
     "output_type": "stream",
     "text": [
      "[Training] loss: 0.1968, accuracy: 94.7245: 100%|██████████| 48/48 [01:08<00:00,  1.42s/it]\n"
     ]
    },
    {
     "name": "stdout",
     "output_type": "stream",
     "text": [
      "1.0354376552581788 0.7671\n",
      "Execution Time: 2 시간 22 분\n",
      "Epoch=118/199,currnet lr=7.875820121174339e-05\n"
     ]
    },
    {
     "name": "stderr",
     "output_type": "stream",
     "text": [
      "[Training] loss: 0.2046, accuracy: 94.5048: 100%|██████████| 48/48 [01:09<00:00,  1.45s/it]\n"
     ]
    },
    {
     "name": "stdout",
     "output_type": "stream",
     "text": [
      "1.0431042409896851 0.767\n",
      "Execution Time: 2 시간 23 분\n",
      "Epoch=119/199,currnet lr=8.737325314985623e-05\n"
     ]
    },
    {
     "name": "stderr",
     "output_type": "stream",
     "text": [
      "[Training] loss: 0.2025, accuracy: 94.5414: 100%|██████████| 48/48 [01:08<00:00,  1.42s/it]\n"
     ]
    },
    {
     "name": "stdout",
     "output_type": "stream",
     "text": [
      "1.0455065048217773 0.7636\n",
      "Execution Time: 2 시간 24 분\n",
      "Epoch=120/199,currnet lr=9.639601130971356e-05\n"
     ]
    },
    {
     "name": "stderr",
     "output_type": "stream",
     "text": [
      "[Training] loss: 0.2021, accuracy: 94.5740: 100%|██████████| 48/48 [01:07<00:00,  1.41s/it]\n"
     ]
    },
    {
     "name": "stdout",
     "output_type": "stream",
     "text": [
      "1.050701883506775 0.7628\n",
      "Execution Time: 2 시간 25 분\n",
      "Epoch=121/199,currnet lr=0.00010581757131834266\n"
     ]
    },
    {
     "name": "stderr",
     "output_type": "stream",
     "text": [
      "[Training] loss: 0.2074, accuracy: 94.2891: 100%|██████████| 48/48 [01:07<00:00,  1.40s/it]\n"
     ]
    },
    {
     "name": "stdout",
     "output_type": "stream",
     "text": [
      "1.0867975322723389 0.7576\n",
      "Execution Time: 2 시간 27 분\n",
      "Epoch=122/199,currnet lr=0.00011562863523349325\n"
     ]
    },
    {
     "name": "stderr",
     "output_type": "stream",
     "text": [
      "[Training] loss: 0.2179, accuracy: 94.0186: 100%|██████████| 48/48 [01:08<00:00,  1.43s/it]\n"
     ]
    },
    {
     "name": "stdout",
     "output_type": "stream",
     "text": [
      "1.0784147035598755 0.7604\n",
      "Execution Time: 2 시간 28 분\n",
      "Epoch=123/199,currnet lr=0.00012581952071958537\n"
     ]
    },
    {
     "name": "stderr",
     "output_type": "stream",
     "text": [
      "[Training] loss: 0.2204, accuracy: 94.0369: 100%|██████████| 48/48 [01:07<00:00,  1.40s/it]\n"
     ]
    },
    {
     "name": "stdout",
     "output_type": "stream",
     "text": [
      "1.0939652868270875 0.7586\n",
      "Execution Time: 2 시간 29 분\n",
      "Epoch=124/199,currnet lr=0.0001363801706030048\n"
     ]
    },
    {
     "name": "stderr",
     "output_type": "stream",
     "text": [
      "[Training] loss: 0.2300, accuracy: 93.6442: 100%|██████████| 48/48 [01:07<00:00,  1.41s/it]\n"
     ]
    },
    {
     "name": "stdout",
     "output_type": "stream",
     "text": [
      "1.077275262260437 0.7589\n",
      "Execution Time: 2 시간 30 분\n",
      "Epoch=125/199,currnet lr=0.0001473001627973193\n"
     ]
    },
    {
     "name": "stderr",
     "output_type": "stream",
     "text": [
      "[Training] loss: 0.2268, accuracy: 93.7378: 100%|██████████| 48/48 [01:08<00:00,  1.42s/it]\n"
     ]
    },
    {
     "name": "stdout",
     "output_type": "stream",
     "text": [
      "1.0983046661376954 0.7592\n",
      "Execution Time: 2 시간 31 분\n",
      "Epoch=126/199,currnet lr=0.00015856872058862001\n"
     ]
    },
    {
     "name": "stderr",
     "output_type": "stream",
     "text": [
      "[Training] loss: 0.2342, accuracy: 93.5201: 100%|██████████| 48/48 [01:06<00:00,  1.39s/it]\n"
     ]
    },
    {
     "name": "stdout",
     "output_type": "stream",
     "text": [
      "1.1428501987457276 0.7527\n",
      "Execution Time: 2 시간 33 분\n",
      "Epoch=127/199,currnet lr=0.00017017472327083582\n"
     ]
    },
    {
     "name": "stderr",
     "output_type": "stream",
     "text": [
      "[Training] loss: 0.2373, accuracy: 93.5201: 100%|██████████| 48/48 [01:08<00:00,  1.42s/it]\n"
     ]
    },
    {
     "name": "stdout",
     "output_type": "stream",
     "text": [
      "1.1463499923706055 0.7487\n",
      "Execution Time: 2 시간 34 분\n",
      "Epoch=128/199,currnet lr=0.00018210671712052954\n"
     ]
    },
    {
     "name": "stderr",
     "output_type": "stream",
     "text": [
      "[Training] loss: 0.2499, accuracy: 93.0827: 100%|██████████| 48/48 [01:07<00:00,  1.40s/it]\n"
     ]
    },
    {
     "name": "stdout",
     "output_type": "stream",
     "text": [
      "1.1566808519363403 0.746\n",
      "Execution Time: 2 시간 35 분\n",
      "Epoch=129/199,currnet lr=0.00019435292670033822\n"
     ]
    },
    {
     "name": "stderr",
     "output_type": "stream",
     "text": [
      "[Training] loss: 0.2547, accuracy: 92.9565: 100%|██████████| 48/48 [01:08<00:00,  1.44s/it]\n"
     ]
    },
    {
     "name": "stdout",
     "output_type": "stream",
     "text": [
      "1.163281356048584 0.745\n",
      "Execution Time: 2 시간 36 분\n",
      "Epoch=130/199,currnet lr=0.0002069012664799096\n"
     ]
    },
    {
     "name": "stderr",
     "output_type": "stream",
     "text": [
      "[Training] loss: 0.2602, accuracy: 92.7612: 100%|██████████| 48/48 [01:07<00:00,  1.41s/it]\n"
     ]
    },
    {
     "name": "stdout",
     "output_type": "stream",
     "text": [
      "1.140898892211914 0.7405\n",
      "Execution Time: 2 시간 37 분\n",
      "Epoch=131/199,currnet lr=0.00021973935276286058\n"
     ]
    },
    {
     "name": "stderr",
     "output_type": "stream",
     "text": [
      "[Training] loss: 0.2637, accuracy: 92.6799: 100%|██████████| 48/48 [01:08<00:00,  1.42s/it]\n"
     ]
    },
    {
     "name": "stdout",
     "output_type": "stream",
     "text": [
      "1.2505967992782592 0.7332\n",
      "Execution Time: 2 시간 39 분\n",
      "Epoch=132/199,currnet lr=0.00023285451590799133\n"
     ]
    },
    {
     "name": "stderr",
     "output_type": "stream",
     "text": [
      "[Training] loss: 0.2696, accuracy: 92.5028: 100%|██████████| 48/48 [01:07<00:00,  1.40s/it]\n"
     ]
    },
    {
     "name": "stdout",
     "output_type": "stream",
     "text": [
      "1.1783222278594971 0.7407\n",
      "Execution Time: 2 시간 40 분\n",
      "Epoch=133/199,currnet lr=0.0002462338128326896\n"
     ]
    },
    {
     "name": "stderr",
     "output_type": "stream",
     "text": [
      "[Training] loss: 0.2772, accuracy: 92.2587: 100%|██████████| 48/48 [01:06<00:00,  1.39s/it]\n"
     ]
    },
    {
     "name": "stdout",
     "output_type": "stream",
     "text": [
      "1.1742834175109864 0.7346\n",
      "Execution Time: 2 시간 41 분\n",
      "Epoch=134/199,currnet lr=0.0002598640397861932\n"
     ]
    },
    {
     "name": "stderr",
     "output_type": "stream",
     "text": [
      "[Training] loss: 0.2879, accuracy: 91.9739: 100%|██████████| 48/48 [01:07<00:00,  1.41s/it]\n"
     ]
    },
    {
     "name": "stdout",
     "output_type": "stream",
     "text": [
      "1.1833791606903077 0.7373\n",
      "Execution Time: 2 시간 42 분\n",
      "Epoch=135/199,currnet lr=0.0002737317453800963\n"
     ]
    },
    {
     "name": "stderr",
     "output_type": "stream",
     "text": [
      "[Training] loss: 0.2941, accuracy: 91.7501: 100%|██████████| 48/48 [01:07<00:00,  1.40s/it]\n"
     ]
    },
    {
     "name": "stdout",
     "output_type": "stream",
     "text": [
      "1.236197381210327 0.7298\n",
      "Execution Time: 2 시간 43 분\n",
      "Epoch=136/199,currnet lr=0.0002878232438632464\n"
     ]
    },
    {
     "name": "stderr",
     "output_type": "stream",
     "text": [
      "[Training] loss: 0.3091, accuracy: 91.3757: 100%|██████████| 48/48 [01:07<00:00,  1.40s/it]\n"
     ]
    },
    {
     "name": "stdout",
     "output_type": "stream",
     "text": [
      "1.3069294075012208 0.7261\n",
      "Execution Time: 2 시간 45 분\n",
      "Epoch=137/199,currnet lr=0.0003021246286279272\n"
     ]
    },
    {
     "name": "stderr",
     "output_type": "stream",
     "text": [
      "[Training] loss: 0.3156, accuracy: 91.1743: 100%|██████████| 48/48 [01:07<00:00,  1.41s/it]\n"
     ]
    },
    {
     "name": "stdout",
     "output_type": "stream",
     "text": [
      "1.165949712371826 0.7361\n",
      "Execution Time: 2 시간 46 분\n",
      "Epoch=138/199,currnet lr=0.0003166217859340034\n"
     ]
    },
    {
     "name": "stderr",
     "output_type": "stream",
     "text": [
      "[Training] loss: 0.3205, accuracy: 90.9505: 100%|██████████| 48/48 [01:07<00:00,  1.41s/it]\n"
     ]
    },
    {
     "name": "stdout",
     "output_type": "stream",
     "text": [
      "1.2512049251556396 0.7245\n",
      "Execution Time: 2 시간 47 분\n",
      "Epoch=139/199,currnet lr=0.00033130040883747687\n"
     ]
    },
    {
     "name": "stderr",
     "output_type": "stream",
     "text": [
      "[Training] loss: 0.3215, accuracy: 91.0685: 100%|██████████| 48/48 [01:07<00:00,  1.41s/it]\n"
     ]
    },
    {
     "name": "stdout",
     "output_type": "stream",
     "text": [
      "1.2488774087905883 0.7293\n",
      "Execution Time: 2 시간 48 분\n",
      "Epoch=140/199,currnet lr=0.0003461460113097136\n"
     ]
    },
    {
     "name": "stderr",
     "output_type": "stream",
     "text": [
      "[Training] loss: 0.3289, accuracy: 90.8508: 100%|██████████| 48/48 [01:06<00:00,  1.39s/it]\n"
     ]
    },
    {
     "name": "stdout",
     "output_type": "stream",
     "text": [
      "1.2826109796524048 0.7179\n",
      "Execution Time: 2 시간 49 분\n",
      "Epoch=141/199,currnet lr=0.00036114394253340475\n"
     ]
    },
    {
     "name": "stderr",
     "output_type": "stream",
     "text": [
      "[Training] loss: 0.3389, accuracy: 90.3646: 100%|██████████| 48/48 [01:09<00:00,  1.44s/it]\n"
     ]
    },
    {
     "name": "stdout",
     "output_type": "stream",
     "text": [
      "1.337406590461731 0.7175\n",
      "Execution Time: 2 시간 51 분\n",
      "Epoch=142/199,currnet lr=0.0003762794013611552\n"
     ]
    },
    {
     "name": "stderr",
     "output_type": "stream",
     "text": [
      "[Training] loss: 0.3457, accuracy: 90.0574: 100%|██████████| 48/48 [01:07<00:00,  1.40s/it]\n"
     ]
    },
    {
     "name": "stdout",
     "output_type": "stream",
     "text": [
      "1.2862248254776 0.7174\n",
      "Execution Time: 2 시간 52 분\n",
      "Epoch=143/199,currnet lr=0.000391537450922427\n"
     ]
    },
    {
     "name": "stderr",
     "output_type": "stream",
     "text": [
      "[Training] loss: 0.3452, accuracy: 90.1591: 100%|██████████| 48/48 [01:07<00:00,  1.41s/it]\n"
     ]
    },
    {
     "name": "stdout",
     "output_type": "stream",
     "text": [
      "1.2353361513137817 0.7188\n",
      "Execution Time: 2 시간 53 분\n",
      "Epoch=144/199,currnet lr=0.0004069030333644305\n"
     ]
    },
    {
     "name": "stderr",
     "output_type": "stream",
     "text": [
      "[Training] loss: 0.3713, accuracy: 89.4552: 100%|██████████| 48/48 [01:07<00:00,  1.41s/it]\n"
     ]
    },
    {
     "name": "stdout",
     "output_type": "stream",
     "text": [
      "1.2586180236816407 0.7125\n",
      "Execution Time: 2 시간 54 분\n",
      "Epoch=145/199,currnet lr=0.00042236098471240454\n"
     ]
    },
    {
     "name": "stderr",
     "output_type": "stream",
     "text": [
      "[Training] loss: 0.3637, accuracy: 89.6037: 100%|██████████| 48/48 [01:08<00:00,  1.42s/it]\n"
     ]
    },
    {
     "name": "stdout",
     "output_type": "stream",
     "text": [
      "1.2954598526000976 0.7146\n",
      "Execution Time: 2 시간 55 분\n",
      "Epoch=146/199,currnet lr=0.00043789604983462976\n"
     ]
    },
    {
     "name": "stderr",
     "output_type": "stream",
     "text": [
      "[Training] loss: 0.3740, accuracy: 89.3188: 100%|██████████| 48/48 [01:08<00:00,  1.43s/it]\n"
     ]
    },
    {
     "name": "stdout",
     "output_type": "stream",
     "text": [
      "1.3527141860961913 0.7057\n",
      "Execution Time: 2 시간 57 분\n",
      "Epoch=147/199,currnet lr=0.00045349289749740214\n"
     ]
    },
    {
     "name": "stderr",
     "output_type": "stream",
     "text": [
      "[Training] loss: 0.3815, accuracy: 89.1256: 100%|██████████| 48/48 [01:08<00:00,  1.42s/it]\n"
     ]
    },
    {
     "name": "stdout",
     "output_type": "stream",
     "text": [
      "1.2808680063247682 0.7077\n",
      "Execution Time: 2 시간 58 분\n",
      "Epoch=148/199,currnet lr=0.00046913613549510785\n"
     ]
    },
    {
     "name": "stderr",
     "output_type": "stream",
     "text": [
      "[Training] loss: 0.3876, accuracy: 88.9608: 100%|██████████| 48/48 [01:07<00:00,  1.41s/it]\n"
     ]
    },
    {
     "name": "stdout",
     "output_type": "stream",
     "text": [
      "1.3072595561981202 0.7164\n",
      "Execution Time: 2 시간 59 분\n",
      "Epoch=149/199,currnet lr=0.00048481032584047473\n"
     ]
    },
    {
     "name": "stderr",
     "output_type": "stream",
     "text": [
      "[Training] loss: 0.3981, accuracy: 88.6963: 100%|██████████| 48/48 [01:08<00:00,  1.43s/it]\n"
     ]
    },
    {
     "name": "stdout",
     "output_type": "stream",
     "text": [
      "1.211479309272766 0.718\n",
      "Execution Time: 3 시간 0 분\n",
      "Epoch=150/199,currnet lr=0.0005004999999999998\n"
     ]
    },
    {
     "name": "stderr",
     "output_type": "stream",
     "text": [
      "[Training] loss: 0.3926, accuracy: 88.8021: 100%|██████████| 48/48 [01:08<00:00,  1.43s/it]\n"
     ]
    },
    {
     "name": "stdout",
     "output_type": "stream",
     "text": [
      "1.3651572763442994 0.7048\n",
      "Execution Time: 3 시간 1 분\n",
      "Epoch=151/199,currnet lr=0.0005161896741595247\n"
     ]
    },
    {
     "name": "stderr",
     "output_type": "stream",
     "text": [
      "[Training] loss: 0.4106, accuracy: 88.2263: 100%|██████████| 48/48 [01:07<00:00,  1.40s/it]\n"
     ]
    },
    {
     "name": "stdout",
     "output_type": "stream",
     "text": [
      "1.3779344730377197 0.709\n",
      "Execution Time: 3 시간 3 분\n",
      "Epoch=152/199,currnet lr=0.0005318638645048915\n"
     ]
    },
    {
     "name": "stderr",
     "output_type": "stream",
     "text": [
      "[Training] loss: 0.4085, accuracy: 88.2792: 100%|██████████| 48/48 [01:07<00:00,  1.41s/it]\n"
     ]
    },
    {
     "name": "stdout",
     "output_type": "stream",
     "text": [
      "1.3377607782363892 0.7049\n",
      "Execution Time: 3 시간 4 분\n",
      "Epoch=153/199,currnet lr=0.0005475071025025978\n"
     ]
    },
    {
     "name": "stderr",
     "output_type": "stream",
     "text": [
      "[Training] loss: 0.4110, accuracy: 88.1063: 100%|██████████| 48/48 [01:07<00:00,  1.40s/it]\n"
     ]
    },
    {
     "name": "stdout",
     "output_type": "stream",
     "text": [
      "1.3655477796554565 0.7045\n",
      "Execution Time: 3 시간 5 분\n",
      "Epoch=154/199,currnet lr=0.0005631039501653698\n"
     ]
    },
    {
     "name": "stderr",
     "output_type": "stream",
     "text": [
      "[Training] loss: 0.4094, accuracy: 88.1490: 100%|██████████| 48/48 [01:07<00:00,  1.40s/it]\n"
     ]
    },
    {
     "name": "stdout",
     "output_type": "stream",
     "text": [
      "1.3728364364624024 0.6957\n",
      "Execution Time: 3 시간 6 분\n",
      "Epoch=155/199,currnet lr=0.0005786390152875951\n"
     ]
    },
    {
     "name": "stderr",
     "output_type": "stream",
     "text": [
      "[Training] loss: 0.4139, accuracy: 88.2446: 100%|██████████| 48/48 [01:07<00:00,  1.40s/it]\n"
     ]
    },
    {
     "name": "stdout",
     "output_type": "stream",
     "text": [
      "1.3845478530883788 0.6965\n",
      "Execution Time: 3 시간 7 분\n",
      "Epoch=156/199,currnet lr=0.0005940969666355692\n"
     ]
    },
    {
     "name": "stderr",
     "output_type": "stream",
     "text": [
      "[Training] loss: 0.4257, accuracy: 87.7584: 100%|██████████| 48/48 [01:08<00:00,  1.42s/it]\n"
     ]
    },
    {
     "name": "stdout",
     "output_type": "stream",
     "text": [
      "1.367554713821411 0.6974\n",
      "Execution Time: 3 시간 8 분\n",
      "Epoch=157/199,currnet lr=0.0006094625490775728\n"
     ]
    },
    {
     "name": "stderr",
     "output_type": "stream",
     "text": [
      "[Training] loss: 0.4211, accuracy: 88.0046: 100%|██████████| 48/48 [01:06<00:00,  1.39s/it]\n"
     ]
    },
    {
     "name": "stdout",
     "output_type": "stream",
     "text": [
      "1.3006402368545533 0.7061\n",
      "Execution Time: 3 시간 10 분\n",
      "Epoch=158/199,currnet lr=0.000624720598638845\n"
     ]
    },
    {
     "name": "stderr",
     "output_type": "stream",
     "text": [
      "[Training] loss: 0.4315, accuracy: 87.5671: 100%|██████████| 48/48 [01:07<00:00,  1.41s/it]\n"
     ]
    },
    {
     "name": "stdout",
     "output_type": "stream",
     "text": [
      "1.3696046642303468 0.6953\n",
      "Execution Time: 3 시간 11 분\n",
      "Epoch=159/199,currnet lr=0.0006398560574665949\n"
     ]
    },
    {
     "name": "stderr",
     "output_type": "stream",
     "text": [
      "[Training] loss: 0.4319, accuracy: 87.7096: 100%|██████████| 48/48 [01:07<00:00,  1.41s/it]\n"
     ]
    },
    {
     "name": "stdout",
     "output_type": "stream",
     "text": [
      "1.3479319686889648 0.7021\n",
      "Execution Time: 3 시간 12 분\n",
      "Epoch=160/199,currnet lr=0.000654853988690286\n"
     ]
    },
    {
     "name": "stderr",
     "output_type": "stream",
     "text": [
      "[Training] loss: 0.4335, accuracy: 87.5102: 100%|██████████| 48/48 [01:07<00:00,  1.41s/it]\n"
     ]
    },
    {
     "name": "stdout",
     "output_type": "stream",
     "text": [
      "1.3715871866226197 0.6931\n",
      "Execution Time: 3 시간 13 분\n",
      "Epoch=161/199,currnet lr=0.0006696995911625227\n"
     ]
    },
    {
     "name": "stderr",
     "output_type": "stream",
     "text": [
      "[Training] loss: 0.4427, accuracy: 87.2375: 100%|██████████| 48/48 [01:07<00:00,  1.40s/it]\n"
     ]
    },
    {
     "name": "stdout",
     "output_type": "stream",
     "text": [
      "1.543281934928894 0.6823\n",
      "Execution Time: 3 시간 14 분\n",
      "Epoch=162/199,currnet lr=0.0006843782140659962\n"
     ]
    },
    {
     "name": "stderr",
     "output_type": "stream",
     "text": [
      "[Training] loss: 0.4539, accuracy: 86.9303: 100%|██████████| 48/48 [01:07<00:00,  1.40s/it]\n"
     ]
    },
    {
     "name": "stdout",
     "output_type": "stream",
     "text": [
      "1.3442920736312867 0.6953\n",
      "Execution Time: 3 시간 16 분\n",
      "Epoch=163/199,currnet lr=0.0006988753713720724\n"
     ]
    },
    {
     "name": "stderr",
     "output_type": "stream",
     "text": [
      "[Training] loss: 0.4537, accuracy: 87.0341: 100%|██████████| 48/48 [01:07<00:00,  1.41s/it]\n"
     ]
    },
    {
     "name": "stdout",
     "output_type": "stream",
     "text": [
      "1.3211541900634765 0.6988\n",
      "Execution Time: 3 시간 17 분\n",
      "Epoch=164/199,currnet lr=0.0007131767561367531\n"
     ]
    },
    {
     "name": "stderr",
     "output_type": "stream",
     "text": [
      "[Training] loss: 0.4531, accuracy: 87.0117: 100%|██████████| 48/48 [01:07<00:00,  1.41s/it]\n"
     ]
    },
    {
     "name": "stdout",
     "output_type": "stream",
     "text": [
      "1.2567065986633301 0.7084\n",
      "Execution Time: 3 시간 18 분\n",
      "Epoch=165/199,currnet lr=0.0007272682546199028\n"
     ]
    },
    {
     "name": "stderr",
     "output_type": "stream",
     "text": [
      "[Training] loss: 0.4517, accuracy: 86.9609: 100%|██████████| 48/48 [01:07<00:00,  1.40s/it]\n"
     ]
    },
    {
     "name": "stdout",
     "output_type": "stream",
     "text": [
      "1.387673557472229 0.691\n",
      "Execution Time: 3 시간 19 분\n",
      "Epoch=166/199,currnet lr=0.0007411359602138068\n"
     ]
    },
    {
     "name": "stderr",
     "output_type": "stream",
     "text": [
      "[Training] loss: 0.4575, accuracy: 86.8083: 100%|██████████| 48/48 [01:07<00:00,  1.41s/it]\n"
     ]
    },
    {
     "name": "stdout",
     "output_type": "stream",
     "text": [
      "1.3667259481430054 0.7033\n",
      "Execution Time: 3 시간 20 분\n",
      "Epoch=167/199,currnet lr=0.0007547661871673104\n"
     ]
    },
    {
     "name": "stderr",
     "output_type": "stream",
     "text": [
      "[Training] loss: 0.4560, accuracy: 86.9710: 100%|██████████| 48/48 [01:08<00:00,  1.42s/it]\n"
     ]
    },
    {
     "name": "stdout",
     "output_type": "stream",
     "text": [
      "1.4369802213668823 0.6924\n",
      "Execution Time: 3 시간 22 분\n",
      "Epoch=168/199,currnet lr=0.0007681454840920088\n"
     ]
    },
    {
     "name": "stderr",
     "output_type": "stream",
     "text": [
      "[Training] loss: 0.4633, accuracy: 86.6679: 100%|██████████| 48/48 [01:06<00:00,  1.39s/it]\n"
     ]
    },
    {
     "name": "stdout",
     "output_type": "stream",
     "text": [
      "1.3429456186294555 0.6965\n",
      "Execution Time: 3 시간 23 분\n",
      "Epoch=169/199,currnet lr=0.0007812606472371392\n"
     ]
    },
    {
     "name": "stderr",
     "output_type": "stream",
     "text": [
      "[Training] loss: 0.4615, accuracy: 86.6862: 100%|██████████| 48/48 [01:06<00:00,  1.38s/it]\n"
     ]
    },
    {
     "name": "stdout",
     "output_type": "stream",
     "text": [
      "1.4168850679397582 0.6892\n",
      "Execution Time: 3 시간 24 분\n",
      "Epoch=170/199,currnet lr=0.0007940987335200902\n"
     ]
    },
    {
     "name": "stderr",
     "output_type": "stream",
     "text": [
      "[Training] loss: 0.4572, accuracy: 86.7615: 100%|██████████| 48/48 [01:07<00:00,  1.40s/it]\n"
     ]
    },
    {
     "name": "stdout",
     "output_type": "stream",
     "text": [
      "1.4300119100570678 0.6998\n",
      "Execution Time: 3 시간 25 분\n",
      "Epoch=171/199,currnet lr=0.0008066470732996616\n"
     ]
    },
    {
     "name": "stderr",
     "output_type": "stream",
     "text": [
      "[Training] loss: 0.4572, accuracy: 86.7106: 100%|██████████| 48/48 [01:06<00:00,  1.39s/it]\n"
     ]
    },
    {
     "name": "stdout",
     "output_type": "stream",
     "text": [
      "1.4450518795013427 0.6841\n",
      "Execution Time: 3 시간 26 분\n",
      "Epoch=172/199,currnet lr=0.0008188932828794703\n"
     ]
    },
    {
     "name": "stderr",
     "output_type": "stream",
     "text": [
      "[Training] loss: 0.4549, accuracy: 86.8001: 100%|██████████| 48/48 [01:06<00:00,  1.39s/it]\n"
     ]
    },
    {
     "name": "stdout",
     "output_type": "stream",
     "text": [
      "1.2988218393325806 0.6999\n",
      "Execution Time: 3 시간 28 분\n",
      "Epoch=173/199,currnet lr=0.0008308252767291639\n"
     ]
    },
    {
     "name": "stderr",
     "output_type": "stream",
     "text": [
      "[Training] loss: 0.4672, accuracy: 86.6801: 100%|██████████| 48/48 [01:09<00:00,  1.45s/it]\n"
     ]
    },
    {
     "name": "stdout",
     "output_type": "stream",
     "text": [
      "1.390192562484741 0.7022\n",
      "Execution Time: 3 시간 29 분\n",
      "Epoch=174/199,currnet lr=0.0008424312794113795\n"
     ]
    },
    {
     "name": "stderr",
     "output_type": "stream",
     "text": [
      "[Training] loss: 0.4539, accuracy: 86.9019: 100%|██████████| 48/48 [01:12<00:00,  1.50s/it]\n"
     ]
    },
    {
     "name": "stdout",
     "output_type": "stream",
     "text": [
      "1.3868632453918457 0.6861\n",
      "Execution Time: 3 시간 30 분\n",
      "Epoch=175/199,currnet lr=0.00085369983720268\n"
     ]
    },
    {
     "name": "stderr",
     "output_type": "stream",
     "text": [
      "[Training] loss: 0.4636, accuracy: 86.5295: 100%|██████████| 48/48 [01:11<00:00,  1.49s/it]\n"
     ]
    },
    {
     "name": "stdout",
     "output_type": "stream",
     "text": [
      "1.4380494216918944 0.6924\n",
      "Execution Time: 3 시간 31 분\n",
      "Epoch=176/199,currnet lr=0.0008646198293969948\n"
     ]
    },
    {
     "name": "stderr",
     "output_type": "stream",
     "text": [
      "[Training] loss: 0.4713, accuracy: 86.4136: 100%|██████████| 48/48 [01:11<00:00,  1.50s/it]\n"
     ]
    },
    {
     "name": "stdout",
     "output_type": "stream",
     "text": [
      "1.360523902130127 0.6929\n",
      "Execution Time: 3 시간 33 분\n",
      "Epoch=177/199,currnet lr=0.0008751804792804144\n"
     ]
    },
    {
     "name": "stderr",
     "output_type": "stream",
     "text": [
      "[Training] loss: 0.4718, accuracy: 86.4095: 100%|██████████| 48/48 [01:12<00:00,  1.51s/it]\n"
     ]
    },
    {
     "name": "stdout",
     "output_type": "stream",
     "text": [
      "1.2466973644256591 0.7051\n",
      "Execution Time: 3 시간 34 분\n",
      "Epoch=178/199,currnet lr=0.0008853713647665067\n"
     ]
    },
    {
     "name": "stderr",
     "output_type": "stream",
     "text": [
      "[Training] loss: 0.4709, accuracy: 86.4827: 100%|██████████| 48/48 [01:12<00:00,  1.50s/it]\n"
     ]
    },
    {
     "name": "stdout",
     "output_type": "stream",
     "text": [
      "1.339819104194641 0.6972\n",
      "Execution Time: 3 시간 35 분\n",
      "Epoch=179/199,currnet lr=0.0008951824286816571\n"
     ]
    },
    {
     "name": "stderr",
     "output_type": "stream",
     "text": [
      "[Training] loss: 0.4691, accuracy: 86.4644: 100%|██████████| 48/48 [01:11<00:00,  1.49s/it]\n"
     ]
    },
    {
     "name": "stdout",
     "output_type": "stream",
     "text": [
      "1.467382363319397 0.6986\n",
      "Execution Time: 3 시간 36 분\n",
      "Epoch=180/199,currnet lr=0.0009046039886902862\n"
     ]
    },
    {
     "name": "stderr",
     "output_type": "stream",
     "text": [
      "[Training] loss: 0.4665, accuracy: 86.6211: 100%|██████████| 48/48 [01:12<00:00,  1.51s/it]\n"
     ]
    },
    {
     "name": "stdout",
     "output_type": "stream",
     "text": [
      "1.3950383773803712 0.6861\n",
      "Execution Time: 3 시간 38 분\n",
      "Epoch=181/199,currnet lr=0.0009136267468501435\n"
     ]
    },
    {
     "name": "stderr",
     "output_type": "stream",
     "text": [
      "[Training] loss: 0.4766, accuracy: 86.3708: 100%|██████████| 48/48 [01:11<00:00,  1.50s/it]\n"
     ]
    },
    {
     "name": "stdout",
     "output_type": "stream",
     "text": [
      "1.2872853916168212 0.6979\n",
      "Execution Time: 3 시간 39 분\n",
      "Epoch=182/199,currnet lr=0.0009222417987882564\n"
     ]
    },
    {
     "name": "stderr",
     "output_type": "stream",
     "text": [
      "[Training] loss: 0.4672, accuracy: 86.5011: 100%|██████████| 48/48 [01:11<00:00,  1.50s/it]\n"
     ]
    },
    {
     "name": "stdout",
     "output_type": "stream",
     "text": [
      "1.286680918121338 0.7094\n",
      "Execution Time: 3 시간 40 분\n",
      "Epoch=183/199,currnet lr=0.0009304406424884697\n"
     ]
    },
    {
     "name": "stderr",
     "output_type": "stream",
     "text": [
      "[Training] loss: 0.4687, accuracy: 86.3525: 100%|██████████| 48/48 [01:11<00:00,  1.49s/it]\n"
     ]
    },
    {
     "name": "stdout",
     "output_type": "stream",
     "text": [
      "1.308317063522339 0.7076\n",
      "Execution Time: 3 시간 41 분\n",
      "Epoch=184/199,currnet lr=0.0009382151866819097\n"
     ]
    },
    {
     "name": "stderr",
     "output_type": "stream",
     "text": [
      "[Training] loss: 0.4619, accuracy: 86.7940: 100%|██████████| 48/48 [01:12<00:00,  1.51s/it]\n"
     ]
    },
    {
     "name": "stdout",
     "output_type": "stream",
     "text": [
      "1.375555430984497 0.6989\n",
      "Execution Time: 3 시간 43 분\n",
      "Epoch=185/199,currnet lr=0.0009455577588320898\n"
     ]
    },
    {
     "name": "stderr",
     "output_type": "stream",
     "text": [
      "[Training] loss: 0.4627, accuracy: 86.6720: 100%|██████████| 48/48 [01:11<00:00,  1.49s/it]\n"
     ]
    },
    {
     "name": "stdout",
     "output_type": "stream",
     "text": [
      "1.4590927028656007 0.695\n",
      "Execution Time: 3 시간 44 분\n",
      "Epoch=186/199,currnet lr=0.0009524611127067768\n"
     ]
    },
    {
     "name": "stderr",
     "output_type": "stream",
     "text": [
      "[Training] loss: 0.4677, accuracy: 86.6455: 100%|██████████| 48/48 [01:12<00:00,  1.50s/it]\n"
     ]
    },
    {
     "name": "stdout",
     "output_type": "stream",
     "text": [
      "1.3391376621246338 0.7025\n",
      "Execution Time: 3 시간 45 분\n",
      "Epoch=187/199,currnet lr=0.0009589184355291488\n"
     ]
    },
    {
     "name": "stderr",
     "output_type": "stream",
     "text": [
      "[Training] loss: 0.4690, accuracy: 86.4502: 100%|██████████| 48/48 [01:11<00:00,  1.49s/it]\n"
     ]
    },
    {
     "name": "stdout",
     "output_type": "stream",
     "text": [
      "1.3269371318817138 0.7016\n",
      "Execution Time: 3 시간 47 분\n",
      "Epoch=188/199,currnet lr=0.0009649233547011816\n"
     ]
    },
    {
     "name": "stderr",
     "output_type": "stream",
     "text": [
      "[Training] loss: 0.4748, accuracy: 86.3953: 100%|██████████| 48/48 [01:12<00:00,  1.50s/it]\n"
     ]
    },
    {
     "name": "stdout",
     "output_type": "stream",
     "text": [
      "1.4753937648773194 0.678\n",
      "Execution Time: 3 시간 48 분\n",
      "Epoch=189/199,currnet lr=0.0009704699440926357\n"
     ]
    },
    {
     "name": "stderr",
     "output_type": "stream",
     "text": [
      "[Training] loss: 0.4533, accuracy: 86.9161: 100%|██████████| 48/48 [01:12<00:00,  1.50s/it]\n"
     ]
    },
    {
     "name": "stdout",
     "output_type": "stream",
     "text": [
      "1.3138524936676026 0.6964\n",
      "Execution Time: 3 시간 49 분\n",
      "Epoch=190/199,currnet lr=0.0009755527298894294\n"
     ]
    },
    {
     "name": "stderr",
     "output_type": "stream",
     "text": [
      "[Training] loss: 0.4702, accuracy: 86.6781: 100%|██████████| 48/48 [01:12<00:00,  1.50s/it]\n"
     ]
    },
    {
     "name": "stdout",
     "output_type": "stream",
     "text": [
      "1.3393022569656372 0.6883\n",
      "Execution Time: 3 시간 50 분\n",
      "Epoch=191/199,currnet lr=0.000980166695995633\n"
     ]
    },
    {
     "name": "stderr",
     "output_type": "stream",
     "text": [
      "[Training] loss: 0.4620, accuracy: 86.6679: 100%|██████████| 48/48 [01:07<00:00,  1.40s/it]\n"
     ]
    },
    {
     "name": "stdout",
     "output_type": "stream",
     "text": [
      "1.3121709674835205 0.704\n",
      "Execution Time: 3 시간 52 분\n",
      "Epoch=192/199,currnet lr=0.0009843072889837514\n"
     ]
    },
    {
     "name": "stderr",
     "output_type": "stream",
     "text": [
      "[Training] loss: 0.4589, accuracy: 86.6577: 100%|██████████| 48/48 [01:06<00:00,  1.39s/it]\n"
     ]
    },
    {
     "name": "stdout",
     "output_type": "stream",
     "text": [
      "1.4734973140716552 0.6839\n",
      "Execution Time: 3 시간 53 분\n",
      "Epoch=193/199,currnet lr=0.0009879704225884045\n"
     ]
    },
    {
     "name": "stderr",
     "output_type": "stream",
     "text": [
      "[Training] loss: 0.4569, accuracy: 86.8876: 100%|██████████| 48/48 [01:07<00:00,  1.42s/it]\n"
     ]
    },
    {
     "name": "stdout",
     "output_type": "stream",
     "text": [
      "1.3018550689697266 0.711\n",
      "Execution Time: 3 시간 54 분\n",
      "Epoch=194/199,currnet lr=0.0009911524817389804\n"
     ]
    },
    {
     "name": "stderr",
     "output_type": "stream",
     "text": [
      "[Training] loss: 0.4550, accuracy: 86.8103: 100%|██████████| 48/48 [01:06<00:00,  1.39s/it]\n"
     ]
    },
    {
     "name": "stdout",
     "output_type": "stream",
     "text": [
      "1.2776884782791138 0.7081\n",
      "Execution Time: 3 시간 55 분\n",
      "Epoch=195/199,currnet lr=0.0009938503261272716\n"
     ]
    },
    {
     "name": "stderr",
     "output_type": "stream",
     "text": [
      "[Training] loss: 0.4667, accuracy: 86.5804: 100%|██████████| 48/48 [01:07<00:00,  1.40s/it]\n"
     ]
    },
    {
     "name": "stdout",
     "output_type": "stream",
     "text": [
      "1.2765752254486085 0.709\n",
      "Execution Time: 3 시간 56 분\n",
      "Epoch=196/199,currnet lr=0.0009960612933065818\n"
     ]
    },
    {
     "name": "stderr",
     "output_type": "stream",
     "text": [
      "[Training] loss: 0.4469, accuracy: 87.0158: 100%|██████████| 48/48 [01:06<00:00,  1.39s/it]\n"
     ]
    },
    {
     "name": "stdout",
     "output_type": "stream",
     "text": [
      "1.3519630119323731 0.7035\n",
      "Execution Time: 3 시간 57 분\n",
      "Epoch=197/199,currnet lr=0.0009977832013192388\n"
     ]
    },
    {
     "name": "stderr",
     "output_type": "stream",
     "text": [
      "[Training] loss: 0.4494, accuracy: 86.8958: 100%|██████████| 48/48 [01:07<00:00,  1.41s/it]\n"
     ]
    },
    {
     "name": "stdout",
     "output_type": "stream",
     "text": [
      "1.3030377786636353 0.713\n",
      "Execution Time: 3 시간 59 분\n",
      "Epoch=198/199,currnet lr=0.000999014350849922\n"
     ]
    },
    {
     "name": "stderr",
     "output_type": "stream",
     "text": [
      "[Training] loss: 0.4513, accuracy: 86.9405: 100%|██████████| 48/48 [01:07<00:00,  1.40s/it]\n"
     ]
    },
    {
     "name": "stdout",
     "output_type": "stream",
     "text": [
      "1.3840714616775514 0.6942\n",
      "Execution Time: 4 시간 0 분\n",
      "Epoch=199/199,currnet lr=0.000999753526902683\n"
     ]
    },
    {
     "name": "stderr",
     "output_type": "stream",
     "text": [
      "[Training] loss: 0.4444, accuracy: 87.2457: 100%|██████████| 48/48 [01:06<00:00,  1.38s/it]\n"
     ]
    },
    {
     "name": "stdout",
     "output_type": "stream",
     "text": [
      "1.3631692277908325 0.6911\n",
      "Execution Time: 4 시간 1 분\n",
      "Epoch=200/199,currnet lr=0.0010000000000000002\n"
     ]
    },
    {
     "name": "stderr",
     "output_type": "stream",
     "text": [
      "[Training] loss: 0.4591, accuracy: 86.8022: 100%|██████████| 48/48 [01:07<00:00,  1.40s/it]\n"
     ]
    },
    {
     "name": "stdout",
     "output_type": "stream",
     "text": [
      "1.2535923627853394 0.7119\n",
      "Execution Time: 4 시간 2 분\n"
     ]
    }
   ],
   "source": [
    "cri=nn.CrossEntropyLoss()\n",
    "optimizer=torch.optim.NAdam(model.parameters(),lr=1e-3,weight_decay=1e-4)\n",
    "\n",
    "# 학습률 확인\n",
    "def get_lr(opt):\n",
    "  for param_group in opt.param_groups:\n",
    "    return param_group['lr']\n",
    "\n",
    "from torch.optim.lr_scheduler import StepLR\n",
    "from torch.optim.lr_scheduler import CosineAnnealingLR\n",
    "#scheduler = optim.lr_scheduler.ReduceLROnPlateau(optimizer, mode='min', factor=0.01, patience=3, threshold=1e-3) # val_loss가 3번 이상 가장 좋은 것보다 안 좋아지면 leargning rate 조절 #factor을 0.1로 하면 계속 71.~에 더 이상 오르지 않음\n",
    "scheduler = optim.lr_scheduler.CosineAnnealingLR(optimizer,T_max=100, eta_min=0.000001) \n",
    "\n",
    "#코사인러닝으로 바꿔보기\n",
    "best_loss=float('inf')\n",
    "\n",
    "start_time = time.time()  # 코드 실행 시작 시간 기록\n",
    "\n",
    "loss_history={\n",
    "        'train':[],\n",
    "        'val':[],}\n",
    "\n",
    "metric_history={\n",
    "        'train':[],\n",
    "        'val':[],}\n",
    "\n",
    "epochs = 200\n",
    "for epoch in range(epochs + 1):\n",
    "    \n",
    "    current_lr=get_lr(optimizer)\n",
    "    \n",
    "    print('Epoch={}/{},currnet lr={}'.format(epoch,epochs-1,current_lr))\n",
    "\n",
    "    avg_cost,accuracy = train(train_loader, model, cri, optimizer, device)\n",
    "    loss_history['train'].append(avg_cost)\n",
    "    metric_history['train'].append(accuracy)\n",
    "    \n",
    "    val_loss, val_acc = val(val_loader,model,cri,device)\n",
    "    loss_history['val'].append(val_loss)\n",
    "    metric_history['val'].append(val_acc)\n",
    "    scheduler.step() \n",
    "    \n",
    "    \n",
    "    print(val_loss,val_acc)\n",
    "\n",
    "    end_time = time.time()  # 코드 실행 종료 시간 기록\n",
    "    execution_time = end_time - start_time  # 실행 시간 계산\n",
    "\n",
    "    if val_loss<best_loss:\n",
    "        best_loss=val_loss\n",
    "        best_model_wts=copy.deepcopy(model.state_dict())\n",
    "        torch.save(model.state_dict(),'/home/sinssinej7/private/my_first_pycharm/models3/weights6.pt')\n",
    "        print('Copied best model weights!')\n",
    "    \n",
    "    hours = int(execution_time // 3600)\n",
    "    minutes = int((execution_time % 3600) // 60)\n",
    "\n",
    "    print(\"Execution Time:\", hours, \"시간\", minutes, \"분\")\n"
   ],
   "metadata": {
    "collapsed": false,
    "ExecuteTime": {
     "end_time": "2024-02-21T23:10:29.053378400Z",
     "start_time": "2024-02-21T19:07:46.303092800Z"
    }
   },
   "id": "4dda9ad8e593432c",
   "execution_count": 65
  },
  {
   "cell_type": "code",
   "outputs": [
    {
     "data": {
      "text/plain": "<Figure size 432x288 with 1 Axes>",
      "image/png": "[encoded data removed]"
     },
     "metadata": {
      "needs_background": "light"
     },
     "output_type": "display_data"
    },
    {
     "data": {
      "text/plain": "<Figure size 432x288 with 1 Axes>",
      "image/png": "[encoded data removed]"
     },
     "metadata": {
      "needs_background": "light"
     },
     "output_type": "display_data"
    }
   ],
   "source": [
    "# Train-Validation Progress\n",
    "num_epochs=150\n",
    "\n",
    "# plot loss progress\n",
    "plt.title(\"Train-Val Loss\")\n",
    "plt.plot(range(1,num_epochs+1),loss_history[\"train\"][:150],label=\"train\")\n",
    "plt.plot(range(1,num_epochs+1),loss_history[\"val\"][:150],label=\"val\")\n",
    "plt.ylabel(\"Loss\")\n",
    "plt.xlabel(\"Training Epochs\")\n",
    "plt.legend()\n",
    "plt.show()\n",
    "\n",
    "# plot accuracy progress\n",
    "plt.title(\"Train-Val Accuracy\")\n",
    "plt.plot(range(1,num_epochs+1),metric_history[\"train\"][:150],label=\"train\")\n",
    "plt.plot(range(1,num_epochs+1),metric_history[\"val\"][:150],label=\"val\")\n",
    "plt.ylabel(\"Accuracy\")\n",
    "plt.xlabel(\"Training Epochs\")\n",
    "plt.legend()\n",
    "plt.show()"
   ],
   "metadata": {
    "collapsed": false,
    "ExecuteTime": {
     "end_time": "2024-02-22T03:01:36.000465100Z",
     "start_time": "2024-02-22T03:01:35.497577Z"
    }
   },
   "id": "dceaf798410334d6",
   "execution_count": 67
  },
  {
   "cell_type": "code",
   "outputs": [
    {
     "data": {
      "text/plain": "[<matplotlib.lines.Line2D at 0x7fa913246e50>]"
     },
     "execution_count": 58,
     "metadata": {},
     "output_type": "execute_result"
    },
    {
     "data": {
      "text/plain": "<Figure size 432x288 with 1 Axes>",
      "image/png": "[encoded data removed]"
     },
     "metadata": {
      "needs_background": "light"
     },
     "output_type": "display_data"
    }
   ],
   "source": [],
   "metadata": {
    "collapsed": false,
    "ExecuteTime": {
     "end_time": "2024-02-21T18:58:39.929417100Z",
     "start_time": "2024-02-21T18:58:39.771156400Z"
    }
   },
   "id": "b6ca28647e6693de",
   "execution_count": 58
  },
  {
   "cell_type": "code",
   "outputs": [
    {
     "name": "stdout",
     "output_type": "stream",
     "text": [
      "[0.1504, 0.268, 0.3629, 0.3806, 0.428, 0.4393, 0.5102, 0.5123, 0.5343, 0.5477, 0.5697, 0.5969, 0.5987, 0.6208, 0.6311, 0.6159, 0.6223, 0.6387, 0.6129, 0.6498, 0.6587, 0.6532, 0.6518, 0.6703, 0.6771, 0.6721, 0.6774, 0.6878, 0.6974, 0.6888, 0.6857, 0.6996, 0.7052, 0.7042, 0.6954, 0.7047, 0.7012, 0.6973, 0.6956, 0.7132, 0.6908, 0.7092, 0.7152, 0.7197, 0.7128, 0.717, 0.7179, 0.7219, 0.7178, 0.7276, 0.7268, 0.7248, 0.7233, 0.7259, 0.7237, 0.7274, 0.7245, 0.7223, 0.726, 0.7293, 0.7264, 0.7314, 0.733, 0.7304, 0.7337, 0.7381, 0.7273, 0.7321, 0.7372, 0.7292, 0.7351, 0.7432, 0.7338, 0.7415, 0.7433, 0.7376, 0.7384, 0.7392, 0.7385, 0.7409, 0.7364, 0.7436, 0.7385, 0.7434, 0.7458, 0.7426, 0.7469, 0.7565, 0.7487, 0.742, 0.7426, 0.7413, 0.7454, 0.7513, 0.7462, 0.75, 0.7493, 0.7511, 0.7523, 0.7506, 0.7501, 0.7469, 0.7541, 0.7543, 0.7627, 0.7589, 0.7579, 0.7555, 0.7607, 0.76, 0.7563, 0.7575, 0.7551, 0.7597, 0.7588, 0.756, 0.7547, 0.7637, 0.7623, 0.7623, 0.7651, 0.7696, 0.7609, 0.7667, 0.7642, 0.7685, 0.7611, 0.7646, 0.7655, 0.7657, 0.7643, 0.7661, 0.7671, 0.7673, 0.7724, 0.7648, 0.7686, 0.7715, 0.7675, 0.7726, 0.7707, 0.768, 0.7664, 0.7728, 0.7736, 0.7699, 0.774, 0.7774, 0.774, 0.7731, 0.7781, 0.7756, 0.7785, 0.7746, 0.7802, 0.7803, 0.7818, 0.7791, 0.7818, 0.7803, 0.7829, 0.7817, 0.7817, 0.7799, 0.7778, 0.7792, 0.7817, 0.7813, 0.7841, 0.7812, 0.7813, 0.7819, 0.7824, 0.7821, 0.7834, 0.7836, 0.7848, 0.7842, 0.7837, 0.7857, 0.7858, 0.7839, 0.7855, 0.7838, 0.7852, 0.784, 0.7848, 0.7851, 0.7857]\n"
     ]
    }
   ],
   "source": [
    "print(metric_history['val'])\n"
   ],
   "metadata": {
    "collapsed": false,
    "ExecuteTime": {
     "end_time": "2024-02-21T18:51:42.359399300Z",
     "start_time": "2024-02-21T18:51:42.333533Z"
    }
   },
   "id": "ecc3055266eb133d",
   "execution_count": 53
  },
  {
   "cell_type": "code",
   "outputs": [],
   "source": [],
   "metadata": {
    "collapsed": false
   },
   "id": "6643da9f2864e3ab"
  }
 ],
 "metadata": {
  "kernelspec": {
   "display_name": "Python 3",
   "language": "python",
   "name": "python3"
  },
  "language_info": {
   "codemirror_mode": {
    "name": "ipython",
    "version": 2
   },
   "file_extension": ".py",
   "mimetype": "text/x-python",
   "name": "python",
   "nbconvert_exporter": "python",
   "pygments_lexer": "ipython2",
   "version": "2.7.6"
  }
 },
 "nbformat": 4,
 "nbformat_minor": 5
}
